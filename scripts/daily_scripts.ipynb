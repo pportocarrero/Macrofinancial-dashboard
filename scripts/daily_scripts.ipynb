{
 "cells": [
  {
   "cell_type": "markdown",
   "metadata": {
    "collapsed": false
   },
   "source": [
    "### Libraries and configs"
   ]
  },
  {
   "cell_type": "code",
   "execution_count": 49,
   "metadata": {
    "collapsed": true,
    "ExecuteTime": {
     "end_time": "2023-07-14T19:45:15.829711100Z",
     "start_time": "2023-07-14T19:45:14.213811700Z"
    }
   },
   "outputs": [
    {
     "name": "stdout",
     "output_type": "stream",
     "text": [
      "The autoreload extension is already loaded. To reload it, use:\n",
      "  %reload_ext autoreload\n"
     ]
    }
   ],
   "source": [
    "import info_modules as im\n",
    "import pandas as pd\n",
    "import requests\n",
    "import time\n",
    "from datetime import date\n",
    "from functools import reduce\n",
    "%load_ext autoreload\n",
    "%autoreload 2\n",
    "%reload_ext autoreload"
   ]
  },
  {
   "cell_type": "markdown",
   "metadata": {
    "collapsed": false
   },
   "source": [
    "### Yahoo! Finance information"
   ]
  },
  {
   "cell_type": "code",
   "execution_count": 50,
   "metadata": {
    "collapsed": false,
    "ExecuteTime": {
     "end_time": "2023-07-14T19:45:16.002401300Z",
     "start_time": "2023-07-14T19:45:14.386480300Z"
    }
   },
   "outputs": [],
   "source": [
    "# CHANGE WORKING DIRECTORY\n",
    "\n",
    "im.working_folder('mercados')\n",
    "\n",
    "today = date.today()"
   ]
  },
  {
   "cell_type": "code",
   "execution_count": 51,
   "metadata": {
    "collapsed": false,
    "ExecuteTime": {
     "end_time": "2023-07-14T19:45:16.274086200Z",
     "start_time": "2023-07-14T19:45:14.543158900Z"
    }
   },
   "outputs": [
    {
     "name": "stdout",
     "output_type": "stream",
     "text": [
      "[*********************100%***********************]  1 of 1 completed\n"
     ]
    }
   ],
   "source": [
    "# WTI CRUDE\n",
    "\n",
    "im.fin_inf('wti_crude', 'CL=F', '10y', '1d', 'ticker')"
   ]
  },
  {
   "cell_type": "code",
   "execution_count": 52,
   "metadata": {
    "collapsed": false,
    "ExecuteTime": {
     "end_time": "2023-07-14T19:45:17.782593500Z",
     "start_time": "2023-07-14T19:45:16.274086200Z"
    }
   },
   "outputs": [
    {
     "name": "stdout",
     "output_type": "stream",
     "text": [
      "[*********************100%***********************]  1 of 1 completed\n"
     ]
    }
   ],
   "source": [
    "# BRENT CRUDE\n",
    "\n",
    "im.fin_inf('brent_crude', 'BZ=F', '10y', '1d', 'ticker')"
   ]
  },
  {
   "cell_type": "code",
   "execution_count": 53,
   "metadata": {
    "collapsed": false,
    "ExecuteTime": {
     "end_time": "2023-07-14T19:45:19.249904200Z",
     "start_time": "2023-07-14T19:45:17.787101600Z"
    }
   },
   "outputs": [
    {
     "name": "stdout",
     "output_type": "stream",
     "text": [
      "[*********************100%***********************]  1 of 1 completed\n"
     ]
    }
   ],
   "source": [
    "# VIX INDEX\n",
    "\n",
    "im.fin_inf('vix_index', '^VIX', '10y', '1d', 'ticker')"
   ]
  },
  {
   "cell_type": "code",
   "execution_count": 54,
   "metadata": {
    "collapsed": false,
    "ExecuteTime": {
     "end_time": "2023-07-14T19:45:20.693255900Z",
     "start_time": "2023-07-14T19:45:19.249904200Z"
    }
   },
   "outputs": [
    {
     "name": "stdout",
     "output_type": "stream",
     "text": [
      "[*********************100%***********************]  1 of 1 completed\n"
     ]
    }
   ],
   "source": [
    "# MOVE INDEX\n",
    "\n",
    "im.fin_inf('move_index', '^MOVE', '10y', '1d', 'ticker')"
   ]
  },
  {
   "cell_type": "code",
   "execution_count": 55,
   "metadata": {
    "collapsed": false,
    "ExecuteTime": {
     "end_time": "2023-07-14T19:45:22.108447300Z",
     "start_time": "2023-07-14T19:45:20.693255900Z"
    }
   },
   "outputs": [
    {
     "name": "stdout",
     "output_type": "stream",
     "text": [
      "[*********************100%***********************]  1 of 1 completed\n"
     ]
    }
   ],
   "source": [
    "# S&P 500\n",
    "\n",
    "im.fin_inf('sp_500', '^GSPC', '10y', '1d', 'ticker')"
   ]
  },
  {
   "cell_type": "code",
   "execution_count": 56,
   "metadata": {
    "collapsed": false,
    "ExecuteTime": {
     "end_time": "2023-07-14T19:45:23.858263900Z",
     "start_time": "2023-07-14T19:45:22.108447300Z"
    }
   },
   "outputs": [
    {
     "name": "stdout",
     "output_type": "stream",
     "text": [
      "[*********************100%***********************]  1 of 1 completed\n"
     ]
    }
   ],
   "source": [
    "# DOW JONES\n",
    "\n",
    "im.fin_inf('dji_index', '^DJI', '10y', '1d', 'ticker')"
   ]
  },
  {
   "cell_type": "code",
   "execution_count": 57,
   "metadata": {
    "collapsed": false,
    "ExecuteTime": {
     "end_time": "2023-07-14T19:45:25.473632400Z",
     "start_time": "2023-07-14T19:45:23.795495Z"
    }
   },
   "outputs": [
    {
     "name": "stdout",
     "output_type": "stream",
     "text": [
      "[*********************100%***********************]  1 of 1 completed\n"
     ]
    }
   ],
   "source": [
    "# NASDAQ COMPOSITE\n",
    "\n",
    "im.fin_inf('nasdaq_comp', '^IXIC', '10y', '1d', 'ticker')"
   ]
  },
  {
   "cell_type": "code",
   "execution_count": 58,
   "metadata": {
    "collapsed": false,
    "ExecuteTime": {
     "end_time": "2023-07-14T19:45:27.263305100Z",
     "start_time": "2023-07-14T19:45:25.473632400Z"
    }
   },
   "outputs": [
    {
     "name": "stdout",
     "output_type": "stream",
     "text": [
      "[*********************100%***********************]  1 of 1 completed\n"
     ]
    }
   ],
   "source": [
    "# RUSSELL 2000\n",
    "\n",
    "im.fin_inf('russell_2000', '^RUT', '10y', '1d', 'ticker')"
   ]
  },
  {
   "cell_type": "code",
   "execution_count": 59,
   "metadata": {
    "collapsed": false,
    "ExecuteTime": {
     "end_time": "2023-07-14T19:45:28.852050200Z",
     "start_time": "2023-07-14T19:45:27.263305100Z"
    }
   },
   "outputs": [
    {
     "name": "stdout",
     "output_type": "stream",
     "text": [
      "[*********************100%***********************]  1 of 1 completed\n"
     ]
    }
   ],
   "source": [
    "# RUSSELL 3000\n",
    "\n",
    "im.fin_inf('russell_3000', '^RUA', '10y', '1d', 'ticker')"
   ]
  },
  {
   "cell_type": "code",
   "execution_count": 60,
   "metadata": {
    "collapsed": false,
    "ExecuteTime": {
     "end_time": "2023-07-14T19:45:30.355204Z",
     "start_time": "2023-07-14T19:45:28.852050200Z"
    }
   },
   "outputs": [
    {
     "name": "stdout",
     "output_type": "stream",
     "text": [
      "[*********************100%***********************]  1 of 1 completed\n"
     ]
    }
   ],
   "source": [
    "# FTSE 100\n",
    "\n",
    "im.fin_inf('ftse_100', '^FTSE', '10y', '1d', 'ticker')"
   ]
  },
  {
   "cell_type": "code",
   "execution_count": 61,
   "metadata": {
    "collapsed": false,
    "ExecuteTime": {
     "end_time": "2023-07-14T19:45:31.957224400Z",
     "start_time": "2023-07-14T19:45:30.359200700Z"
    }
   },
   "outputs": [
    {
     "name": "stdout",
     "output_type": "stream",
     "text": [
      "[*********************100%***********************]  1 of 1 completed\n"
     ]
    }
   ],
   "source": [
    "# NIKKEI 225\n",
    "\n",
    "im.fin_inf('nikkei_225', '^N225', '10y', '1d', 'ticker')"
   ]
  },
  {
   "cell_type": "code",
   "execution_count": 62,
   "metadata": {
    "collapsed": false,
    "ExecuteTime": {
     "end_time": "2023-07-14T19:45:34.245207500Z",
     "start_time": "2023-07-14T19:45:31.958224600Z"
    }
   },
   "outputs": [
    {
     "name": "stdout",
     "output_type": "stream",
     "text": [
      "[*********************100%***********************]  1 of 1 completed\n"
     ]
    }
   ],
   "source": [
    "# SHANGHAI COMPOSITE\n",
    "\n",
    "im.fin_inf('shanghai_comp', '000001.SS', '10y', '1d', 'ticker')"
   ]
  },
  {
   "cell_type": "code",
   "execution_count": 63,
   "metadata": {
    "ExecuteTime": {
     "end_time": "2023-07-14T19:45:36.915493100Z",
     "start_time": "2023-07-14T19:45:34.248211200Z"
    }
   },
   "outputs": [
    {
     "name": "stdout",
     "output_type": "stream",
     "text": [
      "[*********************100%***********************]  1 of 1 completed\n"
     ]
    }
   ],
   "source": [
    "# GERMAN DAX PERFORMANCE INDEX\n",
    "\n",
    "im.fin_inf('german_dax', '^GDAXI', '10y', '1d', 'ticker')"
   ]
  },
  {
   "cell_type": "code",
   "execution_count": 64,
   "metadata": {
    "ExecuteTime": {
     "end_time": "2023-07-14T19:45:38.428541800Z",
     "start_time": "2023-07-14T19:45:36.918494600Z"
    }
   },
   "outputs": [
    {
     "name": "stdout",
     "output_type": "stream",
     "text": [
      "[*********************100%***********************]  1 of 1 completed\n"
     ]
    }
   ],
   "source": [
    "# FRENCH CAC 40\n",
    "\n",
    "im.fin_inf('french_cac', '^FCHI', '10y', '1d', 'ticker')"
   ]
  },
  {
   "cell_type": "code",
   "execution_count": 65,
   "metadata": {
    "ExecuteTime": {
     "end_time": "2023-07-14T19:45:39.967652500Z",
     "start_time": "2023-07-14T19:45:38.429540300Z"
    }
   },
   "outputs": [
    {
     "name": "stdout",
     "output_type": "stream",
     "text": [
      "[*********************100%***********************]  1 of 1 completed\n"
     ]
    }
   ],
   "source": [
    "# EURONEXT 100\n",
    "\n",
    "im.fin_inf('euronext_100', '^N100', '10y', '1d', 'ticker')"
   ]
  },
  {
   "cell_type": "code",
   "execution_count": 66,
   "metadata": {
    "ExecuteTime": {
     "end_time": "2023-07-14T19:45:41.478138400Z",
     "start_time": "2023-07-14T19:45:39.967652500Z"
    }
   },
   "outputs": [
    {
     "name": "stdout",
     "output_type": "stream",
     "text": [
      "[*********************100%***********************]  1 of 1 completed\n"
     ]
    }
   ],
   "source": [
    "# KOREAN KOSPI\n",
    "\n",
    "im.fin_inf('kospi_comp', '^KS11', '10y', '1d', 'ticker')"
   ]
  },
  {
   "cell_type": "code",
   "execution_count": 67,
   "metadata": {
    "ExecuteTime": {
     "end_time": "2023-07-14T19:45:43.050314800Z",
     "start_time": "2023-07-14T19:45:41.480138300Z"
    }
   },
   "outputs": [
    {
     "name": "stdout",
     "output_type": "stream",
     "text": [
      "[*********************100%***********************]  1 of 1 completed\n"
     ]
    }
   ],
   "source": [
    "# TAIWAN TSEC INDEX\n",
    "\n",
    "im.fin_inf('taiwan_tsec', '^TWII', '10y', '1d', 'ticker')"
   ]
  },
  {
   "cell_type": "code",
   "execution_count": 68,
   "metadata": {
    "ExecuteTime": {
     "end_time": "2023-07-14T19:45:44.668446600Z",
     "start_time": "2023-07-14T19:45:43.044323600Z"
    }
   },
   "outputs": [
    {
     "name": "stdout",
     "output_type": "stream",
     "text": [
      "[*********************100%***********************]  1 of 1 completed\n"
     ]
    }
   ],
   "source": [
    "# TORONTO COMPOSITE INDEX\n",
    "\n",
    "im.fin_inf('toronto_comp', '^GSPTSE', '10y', '1d', 'ticker')"
   ]
  },
  {
   "cell_type": "code",
   "execution_count": 69,
   "metadata": {
    "ExecuteTime": {
     "end_time": "2023-07-14T19:45:46.276679700Z",
     "start_time": "2023-07-14T19:45:44.668446600Z"
    }
   },
   "outputs": [
    {
     "name": "stdout",
     "output_type": "stream",
     "text": [
      "[*********************100%***********************]  1 of 1 completed\n"
     ]
    }
   ],
   "source": [
    "# SAO PAULO INDEX\n",
    "\n",
    "im.fin_inf('ibovespa', '^BVSP', '10y', '1d', 'ticker')"
   ]
  },
  {
   "cell_type": "code",
   "execution_count": 70,
   "metadata": {
    "ExecuteTime": {
     "end_time": "2023-07-14T19:45:47.706275500Z",
     "start_time": "2023-07-14T19:45:46.229790500Z"
    }
   },
   "outputs": [
    {
     "name": "stdout",
     "output_type": "stream",
     "text": [
      "[*********************100%***********************]  1 of 1 completed\n"
     ]
    }
   ],
   "source": [
    "# MEXICO STOCK EXCHANGE\n",
    "\n",
    "im.fin_inf('mexico_index', '^MXX', '10y', '1d', 'ticker')"
   ]
  },
  {
   "cell_type": "code",
   "execution_count": 71,
   "metadata": {
    "ExecuteTime": {
     "end_time": "2023-07-14T19:45:48.987064Z",
     "start_time": "2023-07-14T19:45:47.706275500Z"
    }
   },
   "outputs": [
    {
     "name": "stdout",
     "output_type": "stream",
     "text": [
      "[*********************100%***********************]  1 of 1 completed\n"
     ]
    }
   ],
   "source": [
    "# SANTIAGO EXCHANGE\n",
    "\n",
    "im.fin_inf('chile_index', '^IPSA', '10y', '1d', 'ticker')"
   ]
  },
  {
   "cell_type": "code",
   "execution_count": 72,
   "metadata": {
    "ExecuteTime": {
     "end_time": "2023-07-14T19:45:50.494284Z",
     "start_time": "2023-07-14T19:45:48.987064Z"
    }
   },
   "outputs": [
    {
     "name": "stdout",
     "output_type": "stream",
     "text": [
      "[*********************100%***********************]  1 of 1 completed\n"
     ]
    }
   ],
   "source": [
    "# BUENOS AIRES EXCHANGE\n",
    "\n",
    "im.fin_inf('merval_index', '^MERV', '10y', '1d', 'ticker')"
   ]
  },
  {
   "cell_type": "code",
   "execution_count": 73,
   "metadata": {
    "collapsed": false,
    "ExecuteTime": {
     "end_time": "2023-07-14T19:45:52.000857500Z",
     "start_time": "2023-07-14T19:45:50.494284Z"
    }
   },
   "outputs": [
    {
     "name": "stdout",
     "output_type": "stream",
     "text": [
      "[*********************100%***********************]  1 of 1 completed\n"
     ]
    }
   ],
   "source": [
    "# GOLD FUTURES\n",
    "\n",
    "im.fin_inf('gold_futures', 'GC=F', '10y', '1d', 'ticker')"
   ]
  },
  {
   "cell_type": "code",
   "execution_count": 74,
   "metadata": {
    "collapsed": false,
    "ExecuteTime": {
     "end_time": "2023-07-14T19:45:53.526281Z",
     "start_time": "2023-07-14T19:45:52.000857500Z"
    }
   },
   "outputs": [
    {
     "name": "stdout",
     "output_type": "stream",
     "text": [
      "[*********************100%***********************]  1 of 1 completed\n"
     ]
    }
   ],
   "source": [
    "# COPPER FUTURES\n",
    "\n",
    "im.fin_inf('copper_futures', 'HG=F', '10y', '1d', 'ticker')"
   ]
  },
  {
   "cell_type": "code",
   "execution_count": 75,
   "metadata": {
    "collapsed": false,
    "ExecuteTime": {
     "end_time": "2023-07-14T19:45:55.052370Z",
     "start_time": "2023-07-14T19:45:53.528282500Z"
    }
   },
   "outputs": [
    {
     "name": "stdout",
     "output_type": "stream",
     "text": [
      "[*********************100%***********************]  1 of 1 completed\n"
     ]
    }
   ],
   "source": [
    "# SILVER FUTURES\n",
    "\n",
    "im.fin_inf('silver_futures', 'SI=F', '10y', '1d', 'ticker')"
   ]
  },
  {
   "cell_type": "code",
   "execution_count": 76,
   "metadata": {
    "collapsed": false,
    "ExecuteTime": {
     "end_time": "2023-07-14T19:45:56.447629900Z",
     "start_time": "2023-07-14T19:45:55.055368600Z"
    }
   },
   "outputs": [
    {
     "name": "stdout",
     "output_type": "stream",
     "text": [
      "[*********************100%***********************]  1 of 1 completed\n"
     ]
    }
   ],
   "source": [
    "# WHEAT FUTURES\n",
    "\n",
    "im.fin_inf('wheat_futures', 'KE=F', '10y', '1d', 'ticker')"
   ]
  },
  {
   "cell_type": "code",
   "execution_count": 77,
   "metadata": {
    "collapsed": false,
    "ExecuteTime": {
     "end_time": "2023-07-14T19:45:57.955192200Z",
     "start_time": "2023-07-14T19:45:56.447629900Z"
    }
   },
   "outputs": [
    {
     "name": "stdout",
     "output_type": "stream",
     "text": [
      "[*********************100%***********************]  1 of 1 completed\n"
     ]
    }
   ],
   "source": [
    "# SOYBEAN OIL FUTURES\n",
    "\n",
    "im.fin_inf('soybean_futures', 'ZL=F', '10y', '1d', 'ticker')"
   ]
  },
  {
   "cell_type": "code",
   "execution_count": 78,
   "metadata": {
    "collapsed": false,
    "ExecuteTime": {
     "end_time": "2023-07-14T19:45:59.316658800Z",
     "start_time": "2023-07-14T19:45:57.955192200Z"
    }
   },
   "outputs": [
    {
     "name": "stdout",
     "output_type": "stream",
     "text": [
      "[*********************100%***********************]  1 of 1 completed\n"
     ]
    }
   ],
   "source": [
    "# CORN FUTURES\n",
    "\n",
    "im.fin_inf('corn_futures', 'ZC=F', '10y', '1d', 'ticker')"
   ]
  },
  {
   "cell_type": "code",
   "execution_count": 79,
   "metadata": {
    "collapsed": false,
    "ExecuteTime": {
     "end_time": "2023-07-14T19:46:00.877465500Z",
     "start_time": "2023-07-14T19:45:59.316658800Z"
    }
   },
   "outputs": [
    {
     "name": "stdout",
     "output_type": "stream",
     "text": [
      "[*********************100%***********************]  1 of 1 completed\n"
     ]
    }
   ],
   "source": [
    "# DXY DOLLAR INDEX\n",
    "\n",
    "im.fin_inf('dxy_spot', 'DX-Y.NYB', '10y', '1d', 'ticker')"
   ]
  },
  {
   "cell_type": "code",
   "execution_count": 80,
   "metadata": {
    "collapsed": false,
    "ExecuteTime": {
     "end_time": "2023-07-14T19:46:02.463637400Z",
     "start_time": "2023-07-14T19:46:00.879468800Z"
    }
   },
   "outputs": [
    {
     "name": "stdout",
     "output_type": "stream",
     "text": [
      "[*********************100%***********************]  1 of 1 completed\n"
     ]
    }
   ],
   "source": [
    "# iShares JP Morgan USD Emerging Markets Bond ETF\n",
    "\n",
    "im.fin_inf('jpm usd em bond etf', 'EMB', period='10y', interval='1d', group_by='ticker')"
   ]
  },
  {
   "cell_type": "code",
   "execution_count": 81,
   "metadata": {
    "collapsed": false,
    "ExecuteTime": {
     "end_time": "2023-07-14T19:46:04.114931100Z",
     "start_time": "2023-07-14T19:46:02.464636800Z"
    }
   },
   "outputs": [
    {
     "name": "stdout",
     "output_type": "stream",
     "text": [
      "[*********************100%***********************]  1 of 1 completed\n"
     ]
    }
   ],
   "source": [
    "# SPDR Bloomberg Emerging Markets Local Bond ETF\n",
    "\n",
    "im.fin_inf('em_lc_bond_etf', 'EBND', period='10y', interval='1d', group_by='ticker')"
   ]
  },
  {
   "cell_type": "code",
   "execution_count": 82,
   "metadata": {
    "ExecuteTime": {
     "end_time": "2023-07-14T19:46:05.527435600Z",
     "start_time": "2023-07-14T19:46:04.117931400Z"
    }
   },
   "outputs": [
    {
     "name": "stdout",
     "output_type": "stream",
     "text": [
      "[*********************100%***********************]  1 of 1 completed\n"
     ]
    }
   ],
   "source": [
    "# DXY Dollar index\n",
    "\n",
    "im.fin_inf('dxy_spot', 'DX-Y.NYB', '10y', '1d', 'ticker')"
   ]
  },
  {
   "cell_type": "code",
   "execution_count": 83,
   "metadata": {
    "ExecuteTime": {
     "end_time": "2023-07-14T19:46:05.725542900Z",
     "start_time": "2023-07-14T19:46:05.527435600Z"
    }
   },
   "outputs": [],
   "source": [
    "# Get current date and time of update\n",
    "\n",
    "current_time = time.strftime('%d/%m/%Y %H:%M:%S', time.localtime())\n",
    "\n",
    "file = open('current_time.txt', 'w')\n",
    "\n",
    "file.write(current_time)\n",
    "\n",
    "file.close()"
   ]
  },
  {
   "cell_type": "markdown",
   "metadata": {
    "collapsed": false
   },
   "source": [
    "### Exchange rates"
   ]
  },
  {
   "cell_type": "code",
   "execution_count": 84,
   "metadata": {
    "collapsed": false,
    "ExecuteTime": {
     "end_time": "2023-07-14T19:46:09.968870900Z",
     "start_time": "2023-07-14T19:46:05.727544500Z"
    }
   },
   "outputs": [],
   "source": [
    "# USD/PEN\n",
    "\n",
    "im.fx_info('USD', 'PEN', 'usd_pen')"
   ]
  },
  {
   "cell_type": "code",
   "execution_count": 85,
   "metadata": {
    "collapsed": false,
    "ExecuteTime": {
     "end_time": "2023-07-14T19:46:13.344347800Z",
     "start_time": "2023-07-14T19:46:09.970868Z"
    }
   },
   "outputs": [],
   "source": [
    "# GBP/USD\n",
    "\n",
    "im.fx_info('GBP', 'USD', 'gbp_usd')"
   ]
  },
  {
   "cell_type": "code",
   "execution_count": 86,
   "metadata": {
    "collapsed": false,
    "ExecuteTime": {
     "end_time": "2023-07-14T19:46:15.539798300Z",
     "start_time": "2023-07-14T19:46:13.346358Z"
    }
   },
   "outputs": [],
   "source": [
    "# EUR/USD\n",
    "\n",
    "im.fx_info('EUR', 'USD', 'eur_usd')"
   ]
  },
  {
   "cell_type": "code",
   "execution_count": 87,
   "metadata": {
    "ExecuteTime": {
     "end_time": "2023-07-14T19:46:18.096362500Z",
     "start_time": "2023-07-14T19:46:15.544807200Z"
    }
   },
   "outputs": [],
   "source": [
    "# USD/BRL\n",
    "\n",
    "im.fx_info('USD', 'BRL', 'usd_brl')"
   ]
  },
  {
   "cell_type": "code",
   "execution_count": 88,
   "metadata": {
    "ExecuteTime": {
     "end_time": "2023-07-14T19:46:20.617859600Z",
     "start_time": "2023-07-14T19:46:18.096362500Z"
    }
   },
   "outputs": [],
   "source": [
    "# USD/CLP\n",
    "\n",
    "im.fx_info('USD', 'CLP', 'usd_clp')"
   ]
  },
  {
   "cell_type": "code",
   "execution_count": 89,
   "metadata": {
    "ExecuteTime": {
     "end_time": "2023-07-14T19:46:23.226866100Z",
     "start_time": "2023-07-14T19:46:20.617859600Z"
    }
   },
   "outputs": [],
   "source": [
    "# USD/COP\n",
    "\n",
    "im.fx_info('USD', 'COP', 'usd_cop')"
   ]
  },
  {
   "cell_type": "markdown",
   "metadata": {
    "collapsed": false
   },
   "source": [
    "### Lima Stock Exchange information"
   ]
  },
  {
   "cell_type": "code",
   "execution_count": 90,
   "metadata": {
    "collapsed": false,
    "ExecuteTime": {
     "end_time": "2023-07-14T19:46:23.383874800Z",
     "start_time": "2023-07-14T19:46:23.226866100Z"
    }
   },
   "outputs": [],
   "source": [
    "# VARIABLES TO WORK WITH\n",
    "\n",
    "dict_scraping = dict(\n",
    "    str_url=\"https://www.spglobal.com/spdji/en/util/redesign/index-data/get-performance-data-for-datawidget-redesign.dot\",\n",
    "    headers={\n",
    "        \"user-agent\": \"Mozilla/5.0 (Windows NT 10.0; Win64; x64) AppleWebKit/537.36 (KHTML, like Gecko) Chrome/96.0.4664.110 Safari/537.36\"\n",
    "    },\n",
    "    params={\n",
    "        \"indexId\": \"92026288\",\n",
    "        \"getchildindex\": \"true\",\n",
    "        \"returntype\": \"T-\",\n",
    "        \"currencycode\": \"PEN\",\n",
    "        \"language_id\": \"1\",\n",
    "        \"_\": \"1655698943457\",\n",
    "    },\n",
    ")"
   ]
  },
  {
   "cell_type": "code",
   "execution_count": 91,
   "metadata": {
    "collapsed": false,
    "ExecuteTime": {
     "end_time": "2023-07-14T19:46:28.014144700Z",
     "start_time": "2023-07-14T19:46:23.383874800Z"
    }
   },
   "outputs": [],
   "source": [
    "# REQ THE DATA\n",
    "\n",
    "req_sp = requests.get(\n",
    "    url=dict_scraping[\"str_url\"],\n",
    "    params=dict_scraping[\"params\"],\n",
    "    headers=dict_scraping[\"headers\"],\n",
    ")"
   ]
  },
  {
   "cell_type": "code",
   "execution_count": 92,
   "metadata": {
    "collapsed": false,
    "ExecuteTime": {
     "end_time": "2023-07-14T19:46:28.218062300Z",
     "start_time": "2023-07-14T19:46:28.029735100Z"
    }
   },
   "outputs": [],
   "source": [
    "json_sp = req_sp.json()"
   ]
  },
  {
   "cell_type": "code",
   "execution_count": 93,
   "metadata": {
    "collapsed": false,
    "ExecuteTime": {
     "end_time": "2023-07-14T19:46:28.390712Z",
     "start_time": "2023-07-14T19:46:28.218062300Z"
    }
   },
   "outputs": [
    {
     "data": {
      "text/plain": "dict_keys(['status', 'serviceMessages', 'serviceConfig', 'indexDetailHolder', 'constituentHolder', 'indexCharacteristics', 'indexSectorBreakdownHolder', 'indexLevelsHolder', 'indexPerformanceHolder', 'idsIndexAdvancedRiskMetricsHolder', 'idsIndexQuickFactsHolder', 'idsIndexCountryBreakdownHolder', 'idsIndexCurrencyHolder', 'idsIndexReturnTypeHolder', 'serviceMessage'])"
     },
     "execution_count": 93,
     "metadata": {},
     "output_type": "execute_result"
    }
   ],
   "source": [
    "json_sp.keys()"
   ]
  },
  {
   "cell_type": "code",
   "execution_count": 94,
   "metadata": {
    "collapsed": false,
    "ExecuteTime": {
     "end_time": "2023-07-14T19:46:28.563007200Z",
     "start_time": "2023-07-14T19:46:28.390712Z"
    }
   },
   "outputs": [
    {
     "data": {
      "text/plain": "dict_keys(['status', 'serviceMessages', 'fetchedDate', 'indexLevels', 'formattedFetchedDate', 'formattedDateForWidget', 'serviceMessage'])"
     },
     "execution_count": 94,
     "metadata": {},
     "output_type": "execute_result"
    }
   ],
   "source": [
    "json_sp[\"indexLevelsHolder\"].keys()"
   ]
  },
  {
   "cell_type": "code",
   "execution_count": 95,
   "metadata": {
    "collapsed": false,
    "ExecuteTime": {
     "end_time": "2023-07-14T19:46:28.735699500Z",
     "start_time": "2023-07-14T19:46:28.563007200Z"
    }
   },
   "outputs": [],
   "source": [
    "df_bvl_sp = pd.DataFrame(json_sp[\"indexLevelsHolder\"][\"indexLevels\"])"
   ]
  },
  {
   "cell_type": "code",
   "execution_count": 96,
   "metadata": {
    "collapsed": false,
    "ExecuteTime": {
     "end_time": "2023-07-14T19:46:28.924420Z",
     "start_time": "2023-07-14T19:46:28.735699500Z"
    }
   },
   "outputs": [
    {
     "data": {
      "text/plain": "Index(['effectiveDate', 'indexId', 'effectiveDateInEst', 'indexValue',\n       'monthToDateFlag', 'quarterToDateFlag', 'yearToDateFlag', 'oneYearFlag',\n       'threeYearFlag', 'fiveYearFlag', 'tenYearFlag', 'allYearFlag',\n       'fetchedDate', 'formattedEffectiveDate'],\n      dtype='object')"
     },
     "execution_count": 96,
     "metadata": {},
     "output_type": "execute_result"
    }
   ],
   "source": [
    "df_bvl_sp.columns"
   ]
  },
  {
   "cell_type": "code",
   "execution_count": 97,
   "metadata": {
    "collapsed": false,
    "ExecuteTime": {
     "end_time": "2023-07-14T19:46:29.081070200Z",
     "start_time": "2023-07-14T19:46:28.924420Z"
    }
   },
   "outputs": [
    {
     "data": {
      "text/plain": "effectiveDate               int64\nindexId                     int64\neffectiveDateInEst          int64\nindexValue                float64\nmonthToDateFlag            object\nquarterToDateFlag          object\nyearToDateFlag             object\noneYearFlag                object\nthreeYearFlag              object\nfiveYearFlag               object\ntenYearFlag                object\nallYearFlag                object\nfetchedDate                 int64\nformattedEffectiveDate     object\ndtype: object"
     },
     "execution_count": 97,
     "metadata": {},
     "output_type": "execute_result"
    }
   ],
   "source": [
    "df_bvl_sp.dtypes"
   ]
  },
  {
   "cell_type": "code",
   "execution_count": 98,
   "metadata": {
    "collapsed": false,
    "ExecuteTime": {
     "end_time": "2023-07-14T19:46:29.665174600Z",
     "start_time": "2023-07-14T19:46:29.081070200Z"
    }
   },
   "outputs": [],
   "source": [
    "df_bvl_sp = pd.DataFrame(\n",
    "    {\n",
    "        \"Date\": df_bvl_sp.formattedEffectiveDate.apply(\n",
    "            pd.to_datetime, format=\"%d-%b-%Y\"\n",
    "        ),\n",
    "        \"Close\": df_bvl_sp.indexValue,\n",
    "    }\n",
    ")"
   ]
  },
  {
   "cell_type": "code",
   "execution_count": 99,
   "metadata": {
    "collapsed": false,
    "ExecuteTime": {
     "end_time": "2023-07-14T19:46:29.901781800Z",
     "start_time": "2023-07-14T19:46:29.666190400Z"
    }
   },
   "outputs": [
    {
     "data": {
      "text/plain": "           Date         Close\n2518 2023-07-07  22518.834162\n2519 2023-07-10  22767.672176\n2520 2023-07-11  22557.535175\n2521 2023-07-12  22650.813023\n2522 2023-07-13  22893.425990",
      "text/html": "<div>\n<style scoped>\n    .dataframe tbody tr th:only-of-type {\n        vertical-align: middle;\n    }\n\n    .dataframe tbody tr th {\n        vertical-align: top;\n    }\n\n    .dataframe thead th {\n        text-align: right;\n    }\n</style>\n<table border=\"1\" class=\"dataframe\">\n  <thead>\n    <tr style=\"text-align: right;\">\n      <th></th>\n      <th>Date</th>\n      <th>Close</th>\n    </tr>\n  </thead>\n  <tbody>\n    <tr>\n      <th>2518</th>\n      <td>2023-07-07</td>\n      <td>22518.834162</td>\n    </tr>\n    <tr>\n      <th>2519</th>\n      <td>2023-07-10</td>\n      <td>22767.672176</td>\n    </tr>\n    <tr>\n      <th>2520</th>\n      <td>2023-07-11</td>\n      <td>22557.535175</td>\n    </tr>\n    <tr>\n      <th>2521</th>\n      <td>2023-07-12</td>\n      <td>22650.813023</td>\n    </tr>\n    <tr>\n      <th>2522</th>\n      <td>2023-07-13</td>\n      <td>22893.425990</td>\n    </tr>\n  </tbody>\n</table>\n</div>"
     },
     "execution_count": 99,
     "metadata": {},
     "output_type": "execute_result"
    }
   ],
   "source": [
    "df_bvl_sp.tail()"
   ]
  },
  {
   "cell_type": "code",
   "execution_count": 100,
   "metadata": {
    "collapsed": false,
    "ExecuteTime": {
     "end_time": "2023-07-14T19:46:30.279700900Z",
     "start_time": "2023-07-14T19:46:29.903781700Z"
    }
   },
   "outputs": [],
   "source": [
    "# EXPORTING THE DATA\n",
    "\n",
    "df_bvl_sp.to_feather('bvl_gen')\n",
    "\n",
    "df_bvl_sp.to_excel('bvl_gen.xlsx')"
   ]
  },
  {
   "cell_type": "markdown",
   "metadata": {
    "collapsed": false
   },
   "source": [
    "### Data from the Federal Reserve Bank of St. Louis"
   ]
  },
  {
   "cell_type": "code",
   "execution_count": 101,
   "metadata": {
    "collapsed": false,
    "ExecuteTime": {
     "end_time": "2023-07-14T19:46:32.793968500Z",
     "start_time": "2023-07-14T19:46:30.279700900Z"
    }
   },
   "outputs": [],
   "source": [
    "# UST 1 MONTH\n",
    "\n",
    "im.fred_info('ust1m', 'DGS1MO')"
   ]
  },
  {
   "cell_type": "code",
   "execution_count": 102,
   "metadata": {
    "collapsed": false,
    "ExecuteTime": {
     "end_time": "2023-07-14T19:46:34.731002200Z",
     "start_time": "2023-07-14T19:46:32.793968500Z"
    }
   },
   "outputs": [],
   "source": [
    "# UST 3 MONTHS\n",
    "\n",
    "im.fred_info('ust3m', 'DGS3MO')"
   ]
  },
  {
   "cell_type": "code",
   "execution_count": 103,
   "metadata": {
    "collapsed": false,
    "ExecuteTime": {
     "end_time": "2023-07-14T19:46:36.181757400Z",
     "start_time": "2023-07-14T19:46:34.731002200Z"
    }
   },
   "outputs": [],
   "source": [
    "# UST 6 MONTHS\n",
    "\n",
    "im.fred_info('ust6m', 'DGS6MO')"
   ]
  },
  {
   "cell_type": "code",
   "execution_count": 104,
   "metadata": {
    "collapsed": false,
    "ExecuteTime": {
     "end_time": "2023-07-14T19:46:37.945639Z",
     "start_time": "2023-07-14T19:46:36.181757400Z"
    }
   },
   "outputs": [],
   "source": [
    "# UST 1 YEAR\n",
    "\n",
    "im.fred_info('ust1y', 'DGS1')"
   ]
  },
  {
   "cell_type": "code",
   "execution_count": 105,
   "metadata": {
    "collapsed": false,
    "ExecuteTime": {
     "end_time": "2023-07-14T19:46:39.410327200Z",
     "start_time": "2023-07-14T19:46:37.945639Z"
    }
   },
   "outputs": [],
   "source": [
    "# UST 2 YEARS\n",
    "\n",
    "im.fred_info('ust2y', 'DGS2')"
   ]
  },
  {
   "cell_type": "code",
   "execution_count": 106,
   "metadata": {
    "collapsed": false,
    "ExecuteTime": {
     "end_time": "2023-07-14T19:46:40.979504900Z",
     "start_time": "2023-07-14T19:46:39.410327200Z"
    }
   },
   "outputs": [],
   "source": [
    "# UST 3 YEARS\n",
    "\n",
    "im.fred_info('ust3y', 'DGS3')"
   ]
  },
  {
   "cell_type": "code",
   "execution_count": 107,
   "metadata": {
    "collapsed": false,
    "ExecuteTime": {
     "end_time": "2023-07-14T19:46:42.663017100Z",
     "start_time": "2023-07-14T19:46:40.979504900Z"
    }
   },
   "outputs": [],
   "source": [
    "# UST 5 YEARS\n",
    "\n",
    "im.fred_info('ust5y', 'DGS5')"
   ]
  },
  {
   "cell_type": "code",
   "execution_count": 108,
   "metadata": {
    "collapsed": false,
    "ExecuteTime": {
     "end_time": "2023-07-14T19:46:44.185466800Z",
     "start_time": "2023-07-14T19:46:42.663017100Z"
    }
   },
   "outputs": [],
   "source": [
    "# UST 7 YEARS\n",
    "\n",
    "im.fred_info('ust7y', 'DGS7')"
   ]
  },
  {
   "cell_type": "code",
   "execution_count": 109,
   "metadata": {
    "collapsed": false,
    "ExecuteTime": {
     "end_time": "2023-07-14T19:46:45.849408900Z",
     "start_time": "2023-07-14T19:46:44.185466800Z"
    }
   },
   "outputs": [],
   "source": [
    "# UST 10 YEARS\n",
    "\n",
    "im.fred_info('ust10y', 'DGS10')"
   ]
  },
  {
   "cell_type": "code",
   "execution_count": 110,
   "metadata": {
    "collapsed": false,
    "ExecuteTime": {
     "end_time": "2023-07-14T19:46:47.493689500Z",
     "start_time": "2023-07-14T19:46:45.849408900Z"
    }
   },
   "outputs": [],
   "source": [
    "# UST 20 YEARS\n",
    "\n",
    "im.fred_info('ust20y', 'DGS20')"
   ]
  },
  {
   "cell_type": "code",
   "execution_count": 111,
   "metadata": {
    "collapsed": false,
    "ExecuteTime": {
     "end_time": "2023-07-14T19:46:48.954249400Z",
     "start_time": "2023-07-14T19:46:47.493689500Z"
    }
   },
   "outputs": [],
   "source": [
    "# UST 30 YEARS\n",
    "\n",
    "im.fred_info('ust30y', 'DGS30')"
   ]
  },
  {
   "cell_type": "code",
   "execution_count": 112,
   "metadata": {
    "collapsed": false,
    "ExecuteTime": {
     "end_time": "2023-07-14T19:46:51.197821200Z",
     "start_time": "2023-07-14T19:46:48.954249400Z"
    }
   },
   "outputs": [],
   "source": [
    "# LOAD TREASURIES\n",
    "\n",
    "ust1m = pd.read_excel('ust1m.xlsx')  # US TREASURY 1 MONTH\n",
    "ust3m = pd.read_excel('ust3m.xlsx')  # US TREASURY 3 MONTHS\n",
    "ust6m = pd.read_excel('ust6m.xlsx')  # US TREASURY 6 MONTHS\n",
    "ust1y = pd.read_excel('ust1y.xlsx')  # US TREASURY 1 YEAR\n",
    "ust2y = pd.read_excel('ust2y.xlsx')  # US TREASURY 2 YEARS\n",
    "ust3y = pd.read_excel('ust3y.xlsx')  # US TREASURY 3 YEARS\n",
    "ust5y = pd.read_excel('ust5y.xlsx')  # US TREASURY 5 YEARS\n",
    "ust7y = pd.read_excel('ust7y.xlsx')  # US TREASURY 7 YEARS\n",
    "ust10y = pd.read_excel('ust10y.xlsx')  # US TREASURY 10 YEARS\n",
    "ust20y = pd.read_excel('ust20y.xlsx')  # US TREASURY 20 YEARS\n",
    "ust30y = pd.read_excel('ust30y.xlsx')  # US TREASURY 30 YEARS"
   ]
  },
  {
   "cell_type": "code",
   "execution_count": 113,
   "metadata": {
    "collapsed": false,
    "ExecuteTime": {
     "end_time": "2023-07-14T19:46:51.401729900Z",
     "start_time": "2023-07-14T19:46:51.197821200Z"
    }
   },
   "outputs": [],
   "source": [
    "# LATEST CURVE\n",
    "\n",
    "ust1m_t0 = ust1m['value'].iloc[-1]\n",
    "ust3m_t0 = ust3m['value'].iloc[-1]\n",
    "ust6m_t0 = ust6m['value'].iloc[-1]\n",
    "ust1y_t0 = ust1y['value'].iloc[-1]\n",
    "ust2y_t0 = ust2y['value'].iloc[-1]\n",
    "ust3y_t0 = ust3y['value'].iloc[-1]\n",
    "ust5y_t0 = ust5y['value'].iloc[-1]\n",
    "ust7y_t0 = ust7y['value'].iloc[-1]\n",
    "ust10y_t0 = ust10y['value'].iloc[-1]\n",
    "ust20y_t0 = ust20y['value'].iloc[-1]\n",
    "ust30y_t0 = ust30y['value'].iloc[-1]\n",
    "\n",
    "ust_t0 = ust1m['date'].iloc[-1]"
   ]
  },
  {
   "cell_type": "code",
   "execution_count": 114,
   "metadata": {
    "collapsed": false,
    "ExecuteTime": {
     "end_time": "2023-07-14T19:46:51.590055200Z",
     "start_time": "2023-07-14T19:46:51.401729900Z"
    }
   },
   "outputs": [],
   "source": [
    "# PREVIOUS DAY CURVE\n",
    "\n",
    "ust1m_t1 = ust1m['value'].iloc[-2]\n",
    "ust3m_t1 = ust3m['value'].iloc[-2]\n",
    "ust6m_t1 = ust6m['value'].iloc[-2]\n",
    "ust1y_t1 = ust1y['value'].iloc[-2]\n",
    "ust2y_t1 = ust2y['value'].iloc[-2]\n",
    "ust3y_t1 = ust3y['value'].iloc[-2]\n",
    "ust5y_t1 = ust5y['value'].iloc[-2]\n",
    "ust7y_t1 = ust7y['value'].iloc[-2]\n",
    "ust10y_t1 = ust10y['value'].iloc[-2]\n",
    "ust20y_t1 = ust20y['value'].iloc[-2]\n",
    "ust30y_t1 = ust30y['value'].iloc[-2]\n",
    "\n",
    "ust_t1 = ust1m['date'].iloc[-2]"
   ]
  },
  {
   "cell_type": "code",
   "execution_count": 115,
   "metadata": {
    "collapsed": false,
    "ExecuteTime": {
     "end_time": "2023-07-14T19:46:51.787237700Z",
     "start_time": "2023-07-14T19:46:51.590055200Z"
    }
   },
   "outputs": [],
   "source": [
    "# MONTH AGO CURVE\n",
    "\n",
    "ust1m_t1m = ust1m['value'].iloc[-22]\n",
    "ust3m_t1m = ust3m['value'].iloc[-22]\n",
    "ust6m_t1m = ust6m['value'].iloc[-22]\n",
    "ust1y_t1m = ust1y['value'].iloc[-22]\n",
    "ust2y_t1m = ust2y['value'].iloc[-22]\n",
    "ust3y_t1m = ust3y['value'].iloc[-22]\n",
    "ust5y_t1m = ust5y['value'].iloc[-22]\n",
    "ust7y_t1m = ust7y['value'].iloc[-22]\n",
    "ust10y_t1m = ust10y['value'].iloc[-22]\n",
    "ust20y_t1m = ust20y['value'].iloc[-22]\n",
    "ust30y_t1m = ust30y['value'].iloc[-22]\n",
    "\n",
    "ust_t1m = ust1m['date'].iloc[-22]"
   ]
  },
  {
   "cell_type": "code",
   "execution_count": 116,
   "metadata": {
    "collapsed": false,
    "ExecuteTime": {
     "end_time": "2023-07-14T19:46:51.975556600Z",
     "start_time": "2023-07-14T19:46:51.787237700Z"
    }
   },
   "outputs": [],
   "source": [
    "# UST CURVES\n",
    "\n",
    "ust_curve = {\n",
    "    ust_t0: [ust1m_t0, ust3m_t0, ust6m_t0, ust1y_t0, ust2y_t0, ust3y_t0, ust5y_t0, ust7y_t0, ust10y_t0, ust20y_t0, ust30y_t0],\n",
    "    ust_t1: [ust1m_t1, ust3m_t1, ust6m_t1, ust1y_t1, ust2y_t1, ust3y_t1, ust5y_t1, ust7y_t1, ust10y_t1, ust20y_t1, ust30y_t1],\n",
    "    ust_t1m: [ust1m_t1m, ust3m_t1m, ust6m_t1m, ust1y_t1m, ust2y_t1m, ust3y_t1m, ust5y_t1m, ust7y_t1m, ust10y_t1m, ust20y_t1m, ust30y_t1m]\n",
    "}\n",
    "\n",
    "ust_curve_df = pd.DataFrame(ust_curve)"
   ]
  },
  {
   "cell_type": "code",
   "execution_count": 117,
   "metadata": {
    "collapsed": false,
    "ExecuteTime": {
     "end_time": "2023-07-14T19:46:52.163916200Z",
     "start_time": "2023-07-14T19:46:51.975556600Z"
    }
   },
   "outputs": [],
   "source": [
    "ust_curve_df = ust_curve_df.rename(index={0: '1m', 1: '3m', 2: '6m', 3: '1a', 4: '2a', 5: '3a', 6: '5a', 7: '7a', 8: '10a', 9: '20a', 10: '30a'})"
   ]
  },
  {
   "cell_type": "code",
   "execution_count": 118,
   "metadata": {
    "collapsed": false,
    "ExecuteTime": {
     "end_time": "2023-07-14T19:46:52.383493400Z",
     "start_time": "2023-07-14T19:46:52.163916200Z"
    }
   },
   "outputs": [],
   "source": [
    "ust_curve_df.reset_index(level=0, inplace=True)"
   ]
  },
  {
   "cell_type": "code",
   "execution_count": 119,
   "metadata": {
    "collapsed": false,
    "ExecuteTime": {
     "end_time": "2023-07-14T19:46:52.556177500Z",
     "start_time": "2023-07-14T19:46:52.383493400Z"
    }
   },
   "outputs": [],
   "source": [
    "ust_curve_df = ust_curve_df.rename(columns={'index': 'Vencimientos'})"
   ]
  },
  {
   "cell_type": "code",
   "execution_count": 120,
   "metadata": {
    "collapsed": false,
    "ExecuteTime": {
     "end_time": "2023-07-14T19:46:52.791343700Z",
     "start_time": "2023-07-14T19:46:52.556177500Z"
    }
   },
   "outputs": [],
   "source": [
    "ust_curve_df.to_excel('ust_curve.xlsx')"
   ]
  },
  {
   "cell_type": "code",
   "execution_count": 121,
   "metadata": {
    "collapsed": false,
    "ExecuteTime": {
     "end_time": "2023-07-14T19:46:53.822554Z",
     "start_time": "2023-07-14T19:46:52.791343700Z"
    }
   },
   "outputs": [],
   "source": [
    "# US QUATERLY GDP YOY\n",
    "\n",
    "im.fred_info('us_gdp', 'A191RL1Q225SBEA')"
   ]
  },
  {
   "cell_type": "code",
   "execution_count": 122,
   "metadata": {
    "collapsed": false,
    "ExecuteTime": {
     "end_time": "2023-07-14T19:46:54.812849900Z",
     "start_time": "2023-07-14T19:46:53.822554Z"
    }
   },
   "outputs": [],
   "source": [
    "# US PCE\n",
    "\n",
    "im.fred_info('us_pce', 'PCEPI')\n",
    "\n",
    "us_pce = pd.read_excel('us_pce.xlsx')\n",
    "\n",
    "us_pce['yoy_growth'] = us_pce['value'].pct_change(12)\n",
    "\n",
    "us_pce.to_excel('us_pce.xlsx')"
   ]
  },
  {
   "cell_type": "code",
   "execution_count": 123,
   "metadata": {
    "collapsed": false,
    "ExecuteTime": {
     "end_time": "2023-07-14T19:46:55.912728500Z",
     "start_time": "2023-07-14T19:46:54.812849900Z"
    }
   },
   "outputs": [],
   "source": [
    "# US CORE PCE\n",
    "\n",
    "im.fred_info('us_core_pce', 'PCEPILFE')\n",
    "\n",
    "us_core_pce = pd.read_excel('us_core_pce.xlsx')\n",
    "\n",
    "us_core_pce['yoy_growth'] = us_core_pce['value'].pct_change(12)\n",
    "\n",
    "us_core_pce.to_excel('us_core_pce.xlsx')"
   ]
  },
  {
   "cell_type": "code",
   "execution_count": 124,
   "metadata": {
    "collapsed": false,
    "ExecuteTime": {
     "end_time": "2023-07-14T19:46:58.881689900Z",
     "start_time": "2023-07-14T19:46:55.912728500Z"
    }
   },
   "outputs": [],
   "source": [
    "# FEDERAL RESERVE FEDERAL FUNDS TARGET RANGE UPPER LIMIT\n",
    "\n",
    "im.fred_info('fed_rate_upper', 'DFEDTARU')\n",
    "\n",
    "# GROUP BY MONTH AND YEAR\n",
    "\n",
    "fed_upper = pd.read_excel('fed_rate_upper.xlsx')\n",
    "\n",
    "fed_upper['date'] = pd.to_datetime(fed_upper['date'], format='%y-%m-%d')\n",
    "\n",
    "fed_upper.index = fed_upper['date']\n",
    "\n",
    "fed_upper = fed_upper.drop(fed_upper.columns[[0, 1]], axis=1)\n",
    "\n",
    "fed_upper = fed_upper.sort_values('date').groupby(by=[fed_upper.index.month, fed_upper.index.year]).tail(1)\n",
    "\n",
    "fed_upper.to_excel('fed_rate_upper.xlsx')\n",
    "\n",
    "# FEDERAL RESERVE FEDERAL FUNDS TARGET RANGE LOWER LIMIT\n",
    "\n",
    "im.fred_info('fed_rate_lower', 'DFEDTARL')\n",
    "\n",
    "fed_lower = pd.read_excel('fed_rate_lower.xlsx')\n",
    "\n",
    "fed_lower['date'] = pd.to_datetime(fed_lower['date'], format='%y-%m-%d')\n",
    "\n",
    "fed_lower.index = fed_lower['date']\n",
    "\n",
    "fed_lower = fed_lower.drop(fed_lower.columns[[0, 1]], axis=1)\n",
    "\n",
    "fed_lower = fed_lower.sort_values('date').groupby(by=[fed_lower.index.month, fed_lower.index.year]).tail(1)\n",
    "\n",
    "fed_lower.to_excel('fed_rate_lower.xlsx')"
   ]
  },
  {
   "cell_type": "markdown",
   "metadata": {
    "collapsed": false
   },
   "source": [
    "### Central Bank of Peru data"
   ]
  },
  {
   "cell_type": "code",
   "execution_count": 126,
   "metadata": {
    "collapsed": false,
    "ExecuteTime": {
     "end_time": "2023-07-14T19:50:42.677696600Z",
     "start_time": "2023-07-14T19:50:37.505382900Z"
    }
   },
   "outputs": [],
   "source": [
    "# GET INFO ON EMBIG PERÚ\n",
    "\n",
    "embig_peru_url='https://estadisticas.bcrp.gob.pe/estadisticas/series/diarias/resultados/PD04709XD/html/2010-01-01/2100-12-31'\n",
    "\n",
    "embig_peru_html=pd.read_html(embig_peru_url)\n",
    "\n",
    "embig_peru_df = embig_peru_html[1]\n",
    "\n",
    "# WORK WITH THE DATA AND EXPORT\n",
    "\n",
    "embig_peru_df['EMBIG Perú'] = pd.to_numeric(embig_peru_df['Tasas de interés: EMBIG (variación en pbs) - Spread - EMBIG Perú (pbs)'], errors='coerce')\n",
    "\n",
    "embig_peru_df = embig_peru_df.drop('Tasas de interés: EMBIG (variación en pbs) - Spread - EMBIG Perú (pbs)', axis=1)\n",
    "\n",
    "# WORK WITH THE DATE COLUMN\n",
    "\n",
    "embig_peru_df['dia'] = embig_peru_df['Fecha'].str[:2]\n",
    "embig_peru_df['año'] = '20' + embig_peru_df['Fecha'].str[-2:]\n",
    "embig_peru_df['mes'] = embig_peru_df['Fecha'].str[2:5]\n",
    "\n",
    "embig_peru_df['mes'] = embig_peru_df['mes'].replace({'Ene': '01', 'Feb': '02', 'Mar': '03', 'Abr': '04', 'May': '05', 'Jun': '06', 'Jul': '07', 'Ago': '08', 'Set': '09', 'Oct': '10', 'Nov': '11', 'Dic': '12'})\n",
    "\n",
    "embig_peru_df['date'] = embig_peru_df['dia'] + '/' + embig_peru_df['mes'] + '/' + embig_peru_df['año']\n",
    "\n",
    "embig_peru_df['date'] = pd.to_datetime(embig_peru_df['date'], format='%d/%m/%Y')\n",
    "\n",
    "embig_peru_df = embig_peru_df.drop(['Fecha', 'dia', 'año', 'mes'], axis=1)\n",
    "\n",
    "# EXPORT THE DATA\n",
    "\n",
    "embig_peru_df.to_feather('embig_peru')\n",
    "\n",
    "embig_peru_df.to_excel('embig_peru.xlsx')"
   ]
  },
  {
   "cell_type": "code",
   "execution_count": 127,
   "metadata": {
    "collapsed": false,
    "ExecuteTime": {
     "end_time": "2023-07-14T19:50:52.150310Z",
     "start_time": "2023-07-14T19:50:47.542661800Z"
    }
   },
   "outputs": [],
   "source": [
    "# GET INFO ON EMBIG BRASIL\n",
    "\n",
    "embig_brasil_url='https://estadisticas.bcrp.gob.pe/estadisticas/series/diarias/resultados/PD04711XD/html/2010-01-01/2100-12-31'\n",
    "\n",
    "embig_brasil_html=pd.read_html(embig_brasil_url)\n",
    "\n",
    "embig_brasil_df = embig_brasil_html[1]\n",
    "\n",
    "# WORK WITH THE DATA AND EXPORT\n",
    "\n",
    "embig_brasil_df['EMBIG Brasil'] = pd.to_numeric(embig_brasil_df['Tasas de interés: EMBIG (variación en pbs) - Spread - EMBIG Brasil (pbs)'], errors='coerce')\n",
    "\n",
    "embig_brasil_df = embig_brasil_df.drop('Tasas de interés: EMBIG (variación en pbs) - Spread - EMBIG Brasil (pbs)', axis=1)\n",
    "\n",
    "# WORK WITH THE DATE COLUMN\n",
    "\n",
    "embig_brasil_df['dia'] = embig_brasil_df['Fecha'].str[:2]\n",
    "embig_brasil_df['año'] = '20' + embig_brasil_df['Fecha'].str[-2:]\n",
    "embig_brasil_df['mes'] = embig_brasil_df['Fecha'].str[2:5]\n",
    "\n",
    "embig_brasil_df['mes'] = embig_brasil_df['mes'].replace({'Ene': '01', 'Feb': '02', 'Mar': '03', 'Abr': '04', 'May': '05', 'Jun': '06', 'Jul': '07', 'Ago': '08', 'Set': '09', 'Oct': '10', 'Nov': '11', 'Dic': '12'})\n",
    "\n",
    "embig_brasil_df['date'] = embig_brasil_df['dia'] + '/' + embig_brasil_df['mes'] + '/' + embig_brasil_df['año']\n",
    "\n",
    "embig_brasil_df['date'] = pd.to_datetime(embig_brasil_df['date'], format='%d/%m/%Y')\n",
    "\n",
    "embig_brasil_df = embig_brasil_df.drop(['Fecha', 'dia', 'año', 'mes'], axis=1)\n",
    "\n",
    "# EXPORT THE DATA\n",
    "\n",
    "embig_brasil_df.to_feather('embig_brasil')\n",
    "\n",
    "embig_brasil_df.to_excel('embig_brasil.xlsx')"
   ]
  },
  {
   "cell_type": "code",
   "execution_count": 128,
   "metadata": {
    "collapsed": false,
    "ExecuteTime": {
     "end_time": "2023-07-14T19:51:01.526992100Z",
     "start_time": "2023-07-14T19:50:56.635235900Z"
    }
   },
   "outputs": [],
   "source": [
    "# GET INFO ON EMBIG CHILE\n",
    "\n",
    "embig_chile_url='https://estadisticas.bcrp.gob.pe/estadisticas/series/diarias/resultados/PD38581XD/html/2010-01-01/2100-12-31'\n",
    "\n",
    "embig_chile_html=pd.read_html(embig_chile_url)\n",
    "\n",
    "embig_chile_df = embig_chile_html[1]\n",
    "\n",
    "# WORK WITH THE DATA AND EXPORT\n",
    "\n",
    "embig_chile_df['EMBIG Chile'] = pd.to_numeric(embig_chile_df['Tasas de interés: EMBIG (variación en pbs) - Spread - EMBIG Chile (pbs)'], errors='coerce')\n",
    "\n",
    "embig_chile_df = embig_chile_df.drop('Tasas de interés: EMBIG (variación en pbs) - Spread - EMBIG Chile (pbs)', axis=1)\n",
    "\n",
    "# WORK WITH THE DATE COLUMN\n",
    "\n",
    "embig_chile_df['dia'] = embig_chile_df['Fecha'].str[:2]\n",
    "embig_chile_df['año'] = '20' + embig_chile_df['Fecha'].str[-2:]\n",
    "embig_chile_df['mes'] = embig_chile_df['Fecha'].str[2:5]\n",
    "\n",
    "embig_chile_df['mes'] = embig_chile_df['mes'].replace({'Ene': '01', 'Feb': '02', 'Mar': '03', 'Abr': '04', 'May': '05', 'Jun': '06', 'Jul': '07', 'Ago': '08', 'Set': '09', 'Oct': '10', 'Nov': '11', 'Dic': '12'})\n",
    "\n",
    "embig_chile_df['date'] = embig_chile_df['dia'] + '/' + embig_chile_df['mes'] + '/' + embig_chile_df['año']\n",
    "\n",
    "embig_chile_df['date'] = pd.to_datetime(embig_chile_df['date'], format='%d/%m/%Y')\n",
    "\n",
    "embig_chile_df = embig_chile_df.drop(['Fecha', 'dia', 'año', 'mes'], axis=1)\n",
    "\n",
    "# EXPORT THE DATA\n",
    "\n",
    "embig_chile_df.to_feather('embig_chile')\n",
    "\n",
    "embig_chile_df.to_excel('embig_chile.xlsx')"
   ]
  },
  {
   "cell_type": "code",
   "execution_count": 129,
   "metadata": {
    "collapsed": false,
    "ExecuteTime": {
     "end_time": "2023-07-14T19:51:10.625579700Z",
     "start_time": "2023-07-14T19:51:05.497329900Z"
    }
   },
   "outputs": [],
   "source": [
    "# GET INFO ON EMBIG COLOMBIA\n",
    "\n",
    "embig_colombia_url='https://estadisticas.bcrp.gob.pe/estadisticas/series/diarias/resultados/PD04715XD/html/2010-01-01/2100-12-31'\n",
    "\n",
    "embig_colombia_html=pd.read_html(embig_colombia_url)\n",
    "\n",
    "embig_colombia_df = embig_colombia_html[1]\n",
    "\n",
    "# WORK WITH THE DATA AND EXPORT\n",
    "\n",
    "embig_colombia_df['EMBIG Colombia'] = pd.to_numeric(embig_colombia_df['Tasas de interés: EMBIG (variación en pbs) - Spread - EMBIG Colombia (pbs)'], errors='coerce')\n",
    "\n",
    "embig_colombia_df = embig_colombia_df.drop('Tasas de interés: EMBIG (variación en pbs) - Spread - EMBIG Colombia (pbs)', axis=1)\n",
    "\n",
    "# WORK WITH THE DATE COLUMN\n",
    "\n",
    "embig_colombia_df['dia'] = embig_colombia_df['Fecha'].str[:2]\n",
    "embig_colombia_df['año'] = '20' + embig_colombia_df['Fecha'].str[-2:]\n",
    "embig_colombia_df['mes'] = embig_colombia_df['Fecha'].str[2:5]\n",
    "\n",
    "embig_colombia_df['mes'] = embig_colombia_df['mes'].replace({'Ene': '01', 'Feb': '02', 'Mar': '03', 'Abr': '04', 'May': '05', 'Jun': '06', 'Jul': '07', 'Ago': '08', 'Set': '09', 'Oct': '10', 'Nov': '11', 'Dic': '12'})\n",
    "\n",
    "embig_colombia_df['date'] = embig_colombia_df['dia'] + '/' + embig_colombia_df['mes'] + '/' + embig_colombia_df['año']\n",
    "\n",
    "embig_colombia_df['date'] = pd.to_datetime(embig_colombia_df['date'], format='%d/%m/%Y')\n",
    "\n",
    "embig_colombia_df = embig_colombia_df.drop(['Fecha', 'dia', 'año', 'mes'], axis=1)\n",
    "\n",
    "# EXPORT THE DATA\n",
    "\n",
    "embig_colombia_df.to_feather('embig_colombia')\n",
    "\n",
    "embig_colombia_df.to_excel('embig_colombia.xlsx')"
   ]
  },
  {
   "cell_type": "code",
   "execution_count": 130,
   "metadata": {
    "collapsed": false,
    "ExecuteTime": {
     "end_time": "2023-07-14T19:51:18.560970400Z",
     "start_time": "2023-07-14T19:51:13.748217700Z"
    }
   },
   "outputs": [],
   "source": [
    "# GET INFO ON EMBIG MÉXICO\n",
    "\n",
    "embig_mexico_url='https://estadisticas.bcrp.gob.pe/estadisticas/series/diarias/resultados/PD04713XD/html/2010-01-01/2100-12-31'\n",
    "\n",
    "embig_mexico_html=pd.read_html(embig_mexico_url)\n",
    "\n",
    "embig_mexico_df = embig_mexico_html[1]\n",
    "\n",
    "# WORK WITH THE DATA AND EXPORT\n",
    "\n",
    "embig_mexico_df['EMBIG México'] = pd.to_numeric(embig_mexico_df['Tasas de interés: EMBIG (variación en pbs) - Spread - EMBIG México (pbs)'], errors='coerce')\n",
    "\n",
    "embig_mexico_df = embig_mexico_df.drop('Tasas de interés: EMBIG (variación en pbs) - Spread - EMBIG México (pbs)', axis=1)\n",
    "\n",
    "# WORK WITH THE DATE COLUMN\n",
    "\n",
    "embig_mexico_df['dia'] = embig_mexico_df['Fecha'].str[:2]\n",
    "embig_mexico_df['año'] = '20' + embig_mexico_df['Fecha'].str[-2:]\n",
    "embig_mexico_df['mes'] = embig_mexico_df['Fecha'].str[2:5]\n",
    "\n",
    "embig_mexico_df['mes'] = embig_mexico_df['mes'].replace({'Ene': '01', 'Feb': '02', 'Mar': '03', 'Abr': '04', 'May': '05', 'Jun': '06', 'Jul': '07', 'Ago': '08', 'Set': '09', 'Oct': '10', 'Nov': '11', 'Dic': '12'})\n",
    "\n",
    "embig_mexico_df['date'] = embig_mexico_df['dia'] + '/' + embig_mexico_df['mes'] + '/' + embig_mexico_df['año']\n",
    "\n",
    "embig_mexico_df['date'] = pd.to_datetime(embig_mexico_df['date'], format='%d/%m/%Y')\n",
    "\n",
    "embig_mexico_df = embig_mexico_df.drop(['Fecha', 'dia', 'año', 'mes'], axis=1)\n",
    "\n",
    "# EXPORT THE DATA\n",
    "\n",
    "embig_mexico_df.to_feather('embig_mexico')\n",
    "\n",
    "embig_mexico_df.to_excel('embig_mexico.xlsx')"
   ]
  },
  {
   "cell_type": "code",
   "execution_count": 131,
   "metadata": {
    "collapsed": false,
    "ExecuteTime": {
     "end_time": "2023-07-14T19:51:30.291853600Z",
     "start_time": "2023-07-14T19:51:25.796952700Z"
    }
   },
   "outputs": [],
   "source": [
    "# GET INFO ON EMBIG ECONOMÍAS EMERGENTES\n",
    "\n",
    "embig_em_url='https://estadisticas.bcrp.gob.pe/estadisticas/series/diarias/resultados/PD38580XD/html/2010-01-01/2100-12-31'\n",
    "\n",
    "embig_em_html=pd.read_html(embig_em_url)\n",
    "\n",
    "embig_em_df = embig_em_html[1]\n",
    "\n",
    "# WORK WITH THE DATA AND EXPORT\n",
    "\n",
    "embig_em_df['EMBIG Economías Emergentes'] = pd.to_numeric(embig_em_df['Tasas de interés: EMBIG (variación en pbs) - Spread - EMBIG Economías emergentes (pbs)'], errors='coerce')\n",
    "\n",
    "embig_em_df = embig_em_df.drop('Tasas de interés: EMBIG (variación en pbs) - Spread - EMBIG Economías emergentes (pbs)', axis=1)\n",
    "\n",
    "# WORK WITH THE DATE COLUMN\n",
    "\n",
    "embig_em_df['dia'] = embig_em_df['Fecha'].str[:2]\n",
    "embig_em_df['año'] = '20' + embig_em_df['Fecha'].str[-2:]\n",
    "embig_em_df['mes'] = embig_em_df['Fecha'].str[2:5]\n",
    "\n",
    "embig_em_df['mes'] = embig_em_df['mes'].replace({'Ene': '01', 'Feb': '02', 'Mar': '03', 'Abr': '04', 'May': '05', 'Jun': '06', 'Jul': '07', 'Ago': '08', 'Set': '09', 'Oct': '10', 'Nov': '11', 'Dic': '12'})\n",
    "\n",
    "embig_em_df['date'] = embig_em_df['dia'] + '/' + embig_em_df['mes'] + '/' + embig_em_df['año']\n",
    "\n",
    "embig_em_df['date'] = pd.to_datetime(embig_em_df['date'], format='%d/%m/%Y')\n",
    "\n",
    "embig_em_df = embig_em_df.drop(['Fecha', 'dia', 'año', 'mes'], axis=1)\n",
    "\n",
    "# EXPORT THE DATA\n",
    "\n",
    "embig_em_df.to_feather('embig_em')\n",
    "\n",
    "embig_em_df.to_excel('embig_em.xlsx')"
   ]
  },
  {
   "cell_type": "code",
   "execution_count": 132,
   "metadata": {
    "collapsed": false,
    "ExecuteTime": {
     "end_time": "2023-07-14T19:51:40.869445100Z",
     "start_time": "2023-07-14T19:51:35.990347800Z"
    }
   },
   "outputs": [],
   "source": [
    "# GET INFO ON EMBIG LATAM\n",
    "\n",
    "embig_latam_url='https://estadisticas.bcrp.gob.pe/estadisticas/series/diarias/resultados/PD04708XD/html/2010-01-01/2100-12-31'\n",
    "\n",
    "embig_latam_html=pd.read_html(embig_latam_url)\n",
    "\n",
    "embig_latam_df = embig_latam_html[1]\n",
    "\n",
    "# WORK WITH THE DATA AND EXPORT\n",
    "\n",
    "embig_latam_df['EMBIG Latam'] = pd.to_numeric(embig_latam_df['Tasas de interés: EMBIG (variación en pbs) - Spread - EMBIG America Latina (pbs)'], errors='coerce')\n",
    "\n",
    "embig_latam_df = embig_latam_df.drop('Tasas de interés: EMBIG (variación en pbs) - Spread - EMBIG America Latina (pbs)', axis=1)\n",
    "\n",
    "# WORK WITH THE DATE COLUMN\n",
    "\n",
    "embig_latam_df['dia'] = embig_latam_df['Fecha'].str[:2]\n",
    "embig_latam_df['año'] = '20' + embig_latam_df['Fecha'].str[-2:]\n",
    "embig_latam_df['mes'] = embig_latam_df['Fecha'].str[2:5]\n",
    "\n",
    "embig_latam_df['mes'] = embig_latam_df['mes'].replace({'Ene': '01', 'Feb': '02', 'Mar': '03', 'Abr': '04', 'May': '05', 'Jun': '06', 'Jul': '07', 'Ago': '08', 'Set': '09', 'Oct': '10', 'Nov': '11', 'Dic': '12'})\n",
    "\n",
    "embig_latam_df['date'] = embig_latam_df['dia'] + '/' + embig_latam_df['mes'] + '/' + embig_latam_df['año']\n",
    "\n",
    "embig_latam_df['date'] = pd.to_datetime(embig_latam_df['date'], format='%d/%m/%Y')\n",
    "\n",
    "embig_latam_df = embig_latam_df.drop(['Fecha', 'dia', 'año', 'mes'], axis=1)\n",
    "\n",
    "# EXPORT THE DATA\n",
    "\n",
    "embig_latam_df.to_feather('embig_latam')\n",
    "\n",
    "embig_latam_df.to_excel('embig_latam.xlsx')"
   ]
  },
  {
   "cell_type": "code",
   "execution_count": 133,
   "metadata": {
    "collapsed": false,
    "ExecuteTime": {
     "end_time": "2023-07-14T19:51:43.452296Z",
     "start_time": "2023-07-14T19:51:41.545821500Z"
    }
   },
   "outputs": [],
   "source": [
    "# MERGE EVERYTHING\n",
    "\n",
    "embig_df = [embig_brasil_df, embig_chile_df, embig_colombia_df, embig_mexico_df, embig_peru_df, embig_latam_df, embig_em_df]\n",
    "\n",
    "embig_df = reduce(lambda left, right: pd.merge(left, right, on=['date'], how='outer'), embig_df).fillna('')\n",
    "\n",
    "# EXPORT\n",
    "\n",
    "embig_df.to_excel('embig.xlsx')"
   ]
  },
  {
   "cell_type": "code",
   "execution_count": 134,
   "metadata": {
    "collapsed": false,
    "ExecuteTime": {
     "end_time": "2023-07-14T19:51:44.582242500Z",
     "start_time": "2023-07-14T19:51:44.010151Z"
    }
   },
   "outputs": [],
   "source": [
    "# OBTENER OPERACIONES DE BONOS SOBERANOS POR NO RESIDENTES\n",
    "\n",
    "no_residentes_url='https://estadisticas.bcrp.gob.pe/estadisticas/series/trimestrales/resultados/PN02913FQ/html/2005-01-01/2100-12-31'\n",
    "\n",
    "no_residentes_html=pd.read_html(no_residentes_url)\n",
    "\n",
    "no_residentes_df = no_residentes_html[1]\n",
    "\n",
    "# WORK WITH THE DATA AND EXPORT\n",
    "\n",
    "no_residentes_df['Compraventa de bonos soberanos por no residentes'] = pd.to_numeric(no_residentes_df['Cuenta financiera del sector público (millones US$) - Otras Operaciones con Títulos de Deuda Bonos Soberanos Adquiridos por no Residentes'], errors='coerce')\n",
    "\n",
    "no_residentes_df = no_residentes_df.drop('Cuenta financiera del sector público (millones US$) - Otras Operaciones con Títulos de Deuda Bonos Soberanos Adquiridos por no Residentes', axis=1)"
   ]
  },
  {
   "cell_type": "code",
   "execution_count": 135,
   "metadata": {
    "collapsed": false,
    "ExecuteTime": {
     "end_time": "2023-07-14T19:51:45.509349Z",
     "start_time": "2023-07-14T19:51:45.209672Z"
    }
   },
   "outputs": [],
   "source": [
    "# WORK WITH THE DATE COLUMN\n",
    "\n",
    "no_residentes_df['trimestre'] = no_residentes_df['Fecha'].str[:2]\n",
    "no_residentes_df['año'] = '20' + no_residentes_df['Fecha'].str[-2:]\n",
    "\n",
    "no_residentes_df['trimestre'] = no_residentes_df['trimestre'].replace({'T1': '31/03', 'T2': '30/06', 'T3': '30/09', 'T4': '31/12'})\n",
    "\n",
    "no_residentes_df['date'] = no_residentes_df['trimestre'] + '/' + no_residentes_df['año']\n",
    "\n",
    "no_residentes_df['date'] = pd.to_datetime(no_residentes_df['date'], format='%d/%m/%Y')\n",
    "\n",
    "# EXPORT THE DATA\n",
    "\n",
    "no_residentes_df.to_feather('flujos_nr')\n",
    "\n",
    "no_residentes_df.to_excel('flujos_nr.xlsx')"
   ]
  },
  {
   "cell_type": "code",
   "execution_count": 136,
   "metadata": {
    "collapsed": false,
    "ExecuteTime": {
     "end_time": "2023-07-14T19:51:46.910507700Z",
     "start_time": "2023-07-14T19:51:46.129573500Z"
    }
   },
   "outputs": [],
   "source": [
    "# PBI PERUANO\n",
    "\n",
    "pbi_peru_url='https://estadisticas.bcrp.gob.pe/estadisticas/series/mensuales/resultados/PN01728AM/html/2005-01/2100-12'\n",
    "\n",
    "pbi_peru_html=pd.read_html(pbi_peru_url)\n",
    "\n",
    "pbi_peru_df = pbi_peru_html[1]\n",
    "\n",
    "# WORK WITH THE DATA AND EXPORT\n",
    "\n",
    "pbi_peru_df['Var. % a/a'] = pd.to_numeric(pbi_peru_df['Producto bruto interno y demanda interna (variaciones porcentuales anualizadas) - PBI'], errors='coerce')\n",
    "\n",
    "pbi_peru_df = pbi_peru_df.drop('Producto bruto interno y demanda interna (variaciones porcentuales anualizadas) - PBI', axis=1)\n",
    "\n",
    "# WORK WITH THE DATE COLUMN\n",
    "\n",
    "pbi_peru_df['año'] = '20' + pbi_peru_df['Fecha'].str[-2:]\n",
    "\n",
    "pbi_peru_df['mes'] = pbi_peru_df['Fecha'].str[:3]\n",
    "\n",
    "pbi_peru_df['mes'] = pbi_peru_df['mes'].replace({'Ene': '01/01', 'Feb': '01/02', 'Mar': '01/03', 'Abr': '01/04', 'May': '01/05', 'Jun': '01/06', 'Jul': '01/07', 'Ago': '01/08', 'Sep': '01/09', 'Oct': '01/10', 'Nov': '01/11', 'Dic': '01/12'})\n",
    "\n",
    "pbi_peru_df['date'] = pbi_peru_df['mes'] + '/' + pbi_peru_df['año']\n",
    "\n",
    "pbi_peru_df['date'] = pd.to_datetime(pbi_peru_df['date'], format='%d/%m/%Y')\n",
    "\n",
    "pbi_peru_df = pbi_peru_df.drop(['Fecha', 'año', 'mes'], axis=1)\n",
    "\n",
    "# EXPORT THE DATA\n",
    "\n",
    "pbi_peru_df.to_feather('pbi_peru')\n",
    "\n",
    "pbi_peru_df.to_excel('pbi_peru.xlsx')"
   ]
  },
  {
   "cell_type": "code",
   "execution_count": 138,
   "metadata": {
    "collapsed": false,
    "ExecuteTime": {
     "end_time": "2023-07-14T19:53:03.664365100Z",
     "start_time": "2023-07-14T19:53:02.847496300Z"
    }
   },
   "outputs": [],
   "source": [
    "# EXPECTATIVAS DE PBI PERUANO\n",
    "\n",
    "exp_pbi_url='https://estadisticas.bcrp.gob.pe/estadisticas/series/mensuales/resultados/PD38048AM/html/2005-01/2100-12'\n",
    "\n",
    "exp_pbi_html=pd.read_html(exp_pbi_url)\n",
    "\n",
    "exp_pbi_df = exp_pbi_html[1]\n",
    "\n",
    "# WORK WITH THE DATA AND EXPORT\n",
    "\n",
    "exp_pbi_df['Expectativas PBI (%)'] = pd.to_numeric(exp_pbi_df['Expectativas macroeconómicas - Expectativa de PBI a 12 meses'], errors='coerce')\n",
    "\n",
    "exp_pbi_df = exp_pbi_df.drop('Expectativas macroeconómicas - Expectativa de PBI a 12 meses', axis=1)\n",
    "\n",
    "# WORK WITH THE DATE COLUMN\n",
    "\n",
    "exp_pbi_df['año'] = '20' + exp_pbi_df['Fecha'].str[-2:]\n",
    "\n",
    "exp_pbi_df['mes'] = exp_pbi_df['Fecha'].str[:3]\n",
    "\n",
    "exp_pbi_df['mes'] = exp_pbi_df['mes'].replace({'Ene': '01/01', 'Feb': '01/02', 'Mar': '01/03', 'Abr': '01/04', 'May': '01/05', 'Jun': '01/06', 'Jul': '01/07', 'Ago': '01/08', 'Sep': '01/09', 'Oct': '01/10', 'Nov': '01/11', 'Dic': '01/12'})\n",
    "\n",
    "exp_pbi_df['date'] = exp_pbi_df['mes'] + '/' + exp_pbi_df['año']\n",
    "\n",
    "exp_pbi_df['date'] = pd.to_datetime(exp_pbi_df['date'], format='%d/%m/%Y')\n",
    "\n",
    "exp_pbi_df = exp_pbi_df.drop(['Fecha', 'año', 'mes'], axis=1)\n",
    "\n",
    "# EXPORT THE DATA\n",
    "\n",
    "exp_pbi_df.to_feather('expectativas_pbi_peru')\n",
    "\n",
    "exp_pbi_df.to_excel('expectativas_pbi_peru.xlsx')"
   ]
  },
  {
   "cell_type": "code",
   "execution_count": 139,
   "metadata": {
    "collapsed": false,
    "ExecuteTime": {
     "end_time": "2023-07-14T19:53:06.474443300Z",
     "start_time": "2023-07-14T19:53:05.270535800Z"
    }
   },
   "outputs": [],
   "source": [
    "# PBI PERUANO DESESTACIONALIZADO\n",
    "\n",
    "pbi_perd_url='https://estadisticas.bcrp.gob.pe/estadisticas/series/mensuales/resultados/PN01731AM/html/2005-01/2100-12'\n",
    "\n",
    "pbi_perd_html=pd.read_html(pbi_perd_url)\n",
    "\n",
    "pbi_perd_df = pbi_perd_html[1]\n",
    "\n",
    "# WORK WITH THE DATA AND EXPORT\n",
    "\n",
    "pbi_perd_df['Var. % m/m'] = pd.to_numeric(pbi_perd_df['Producto bruto interno y demanda interna (variaciones porcentuales anualizadas) - PBI Desestacionalizado - Var% mensual'], errors='coerce')\n",
    "\n",
    "pbi_perd_df = pbi_perd_df.drop('Producto bruto interno y demanda interna (variaciones porcentuales anualizadas) - PBI Desestacionalizado - Var% mensual', axis=1)\n",
    "\n",
    "# WORK WITH THE DATE COLUMN\n",
    "\n",
    "pbi_perd_df['año'] = '20' + pbi_perd_df['Fecha'].str[-2:]\n",
    "\n",
    "pbi_perd_df['mes'] = pbi_perd_df['Fecha'].str[:3]\n",
    "\n",
    "pbi_perd_df['mes'] = pbi_perd_df['mes'].replace({'Ene': '01/01', 'Feb': '01/02', 'Mar': '01/03', 'Abr': '01/04', 'May': '01/05', 'Jun': '01/06', 'Jul': '01/07', 'Ago': '01/08', 'Sep': '01/09', 'Oct': '01/10', 'Nov': '01/11', 'Dic': '01/12'})\n",
    "\n",
    "pbi_perd_df['date'] = pbi_perd_df['mes'] + '/' + pbi_perd_df['año']\n",
    "\n",
    "pbi_perd_df['date'] = pd.to_datetime(pbi_perd_df['date'], format='%d/%m/%Y')\n",
    "\n",
    "pbi_perd_df = pbi_perd_df.drop(['Fecha', 'año', 'mes'], axis=1)\n",
    "\n",
    "# EXPORT THE DATA\n",
    "\n",
    "pbi_perd_df.to_feather('pbi_peru_des')\n",
    "\n",
    "pbi_perd_df.to_excel('pbi_peru_des.xlsx')"
   ]
  },
  {
   "cell_type": "code",
   "execution_count": 140,
   "metadata": {
    "collapsed": false,
    "ExecuteTime": {
     "end_time": "2023-07-14T19:53:08.415437200Z",
     "start_time": "2023-07-14T19:53:07.218750200Z"
    }
   },
   "outputs": [],
   "source": [
    "# PBI PERUANO DESESTACIONALIZADO MEDIA MÓVIL\n",
    "\n",
    "pbi_perd_prom_url='https://estadisticas.bcrp.gob.pe/estadisticas/series/mensuales/resultados/PN38082AM/html/2005-01/2100-12'\n",
    "\n",
    "pbi_perd_prom_html=pd.read_html(pbi_perd_prom_url)\n",
    "\n",
    "pbi_perd_prom_df = pbi_perd_prom_html[1]\n",
    "\n",
    "# WORK WITH THE DATA AND EXPORT\n",
    "\n",
    "pbi_perd_prom_df['Var. % promedio móvil 3m'] = pd.to_numeric(pbi_perd_prom_df['Producto bruto interno y demanda interna (variaciones porcentuales anualizadas) - PBI Desestacionalizado - Var% promedio móvil 3 meses'], errors='coerce')\n",
    "\n",
    "pbi_perd_prom_df = pbi_perd_prom_df.drop('Producto bruto interno y demanda interna (variaciones porcentuales anualizadas) - PBI Desestacionalizado - Var% promedio móvil 3 meses', axis=1)\n",
    "\n",
    "# WORK WITH THE DATE COLUMN\n",
    "\n",
    "pbi_perd_prom_df['año'] = '20' + pbi_perd_prom_df['Fecha'].str[-2:]\n",
    "\n",
    "pbi_perd_prom_df['mes'] = pbi_perd_prom_df['Fecha'].str[:3]\n",
    "\n",
    "pbi_perd_prom_df['mes'] = pbi_perd_prom_df['mes'].replace({'Ene': '01/01', 'Feb': '01/02', 'Mar': '01/03', 'Abr': '01/04', 'May': '01/05', 'Jun': '01/06', 'Jul': '01/07', 'Ago': '01/08', 'Sep': '01/09', 'Oct': '01/10', 'Nov': '01/11', 'Dic': '01/12'})\n",
    "\n",
    "pbi_perd_prom_df['date'] = pbi_perd_prom_df['mes'] + '/' + pbi_perd_prom_df['año']\n",
    "\n",
    "pbi_perd_prom_df['date'] = pd.to_datetime(pbi_perd_prom_df['date'], format='%d/%m/%Y')\n",
    "\n",
    "pbi_perd_prom_df = pbi_perd_prom_df.drop(['Fecha', 'año', 'mes'], axis=1)\n",
    "\n",
    "# EXPORT THE DATA\n",
    "\n",
    "pbi_perd_prom_df.to_feather('pbi_peru_des_prom')\n",
    "\n",
    "pbi_perd_prom_df.to_excel('pbi_peru_des_prom.xlsx')"
   ]
  },
  {
   "cell_type": "code",
   "execution_count": 141,
   "metadata": {
    "collapsed": false,
    "ExecuteTime": {
     "end_time": "2023-07-14T19:53:09.633918Z",
     "start_time": "2023-07-14T19:53:08.938638700Z"
    }
   },
   "outputs": [],
   "source": [
    "# INFLACIÓN PERÚ\n",
    "\n",
    "inflacion_peru_url='https://estadisticas.bcrp.gob.pe/estadisticas/series/mensuales/resultados/PN01273PM/html/2005-01/2100-12'\n",
    "\n",
    "inflacion_peru_html=pd.read_html(inflacion_peru_url)\n",
    "\n",
    "inflacion_peru_df = inflacion_peru_html[1]\n",
    "\n",
    "# WORK WITH THE DATA AND EXPORT\n",
    "\n",
    "inflacion_peru_df['Var. % a/a'] = pd.to_numeric(inflacion_peru_df['Índice de precios Lima Metropolitana (var% 12 meses) - IPC'], errors='coerce')\n",
    "\n",
    "inflacion_peru_df = inflacion_peru_df.drop('Índice de precios Lima Metropolitana (var% 12 meses) - IPC', axis=1)\n",
    "\n",
    "# WORK WITH THE DATE COLUMN\n",
    "\n",
    "inflacion_peru_df['año'] = '20' + inflacion_peru_df['Fecha'].str[-2:]\n",
    "\n",
    "inflacion_peru_df['mes'] = inflacion_peru_df['Fecha'].str[:3]\n",
    "\n",
    "inflacion_peru_df['mes'] = inflacion_peru_df['mes'].replace({'Ene': '01/01', 'Feb': '01/02', 'Mar': '01/03', 'Abr': '01/04', 'May': '01/05', 'Jun': '01/06', 'Jul': '01/07', 'Ago': '01/08', 'Sep': '01/09', 'Oct': '01/10', 'Nov': '01/11', 'Dic': '01/12'})\n",
    "\n",
    "inflacion_peru_df['date'] = inflacion_peru_df['mes'] + '/' + inflacion_peru_df['año']\n",
    "\n",
    "inflacion_peru_df['date'] = pd.to_datetime(inflacion_peru_df['date'], format='%d/%m/%Y')\n",
    "\n",
    "inflacion_peru_df = inflacion_peru_df.drop(['Fecha', 'año', 'mes'], axis=1)\n",
    "\n",
    "# EXPORT THE DATA\n",
    "\n",
    "inflacion_peru_df.to_feather('inflacion_peru')\n",
    "\n",
    "inflacion_peru_df.to_excel('inflacion_peru.xlsx')"
   ]
  },
  {
   "cell_type": "code",
   "execution_count": 142,
   "metadata": {
    "collapsed": false,
    "ExecuteTime": {
     "end_time": "2023-07-14T19:53:10.934725600Z",
     "start_time": "2023-07-14T19:53:10.220694Z"
    }
   },
   "outputs": [],
   "source": [
    "# INFLACIÓN PERÚ SIN ALIMENTOS Y ENERGÍA\n",
    "\n",
    "inflacion_peru_sub_url='https://estadisticas.bcrp.gob.pe/estadisticas/series/mensuales/resultados/PN01277PM/html/2005-01/2100-12'\n",
    "\n",
    "inflacion_peru_sub_html=pd.read_html(inflacion_peru_sub_url)\n",
    "\n",
    "inflacion_peru_sub_df = inflacion_peru_sub_html[1]\n",
    "\n",
    "# WORK WITH THE DATA AND EXPORT\n",
    "\n",
    "inflacion_peru_sub_df['Var. % a/a'] = pd.to_numeric(inflacion_peru_sub_df['Índice de precios Lima Metropolitana (var% 12 meses) - IPC Sin Alimentos y Energía'], errors='coerce')\n",
    "\n",
    "inflacion_peru_sub_df = inflacion_peru_sub_df.drop('Índice de precios Lima Metropolitana (var% 12 meses) - IPC Sin Alimentos y Energía', axis=1)\n",
    "\n",
    "# WORK WITH THE DATE COLUMN\n",
    "\n",
    "inflacion_peru_sub_df['año'] = '20' + inflacion_peru_sub_df['Fecha'].str[-2:]\n",
    "\n",
    "inflacion_peru_sub_df['mes'] = inflacion_peru_sub_df['Fecha'].str[:3]\n",
    "\n",
    "inflacion_peru_sub_df['mes'] = inflacion_peru_sub_df['mes'].replace({'Ene': '01/01', 'Feb': '01/02', 'Mar': '01/03', 'Abr': '01/04', 'May': '01/05', 'Jun': '01/06', 'Jul': '01/07', 'Ago': '01/08', 'Sep': '01/09', 'Oct': '01/10', 'Nov': '01/11', 'Dic': '01/12'})\n",
    "\n",
    "inflacion_peru_sub_df['date'] = inflacion_peru_sub_df['mes'] + '/' + inflacion_peru_sub_df['año']\n",
    "\n",
    "inflacion_peru_sub_df['date'] = pd.to_datetime(inflacion_peru_sub_df['date'], format='%d/%m/%Y')\n",
    "\n",
    "inflacion_peru_sub_df = inflacion_peru_sub_df.drop(['Fecha', 'año', 'mes'], axis=1)\n",
    "\n",
    "# EXPORT THE DATA\n",
    "\n",
    "inflacion_peru_sub_df.to_feather('inflacion_peru_sub')\n",
    "\n",
    "inflacion_peru_sub_df.to_excel('inflacion_peru_sub.xlsx')"
   ]
  },
  {
   "cell_type": "code",
   "execution_count": 145,
   "metadata": {
    "collapsed": false,
    "ExecuteTime": {
     "end_time": "2023-07-14T19:54:01.976765100Z",
     "start_time": "2023-07-14T19:54:01.080262100Z"
    }
   },
   "outputs": [],
   "source": [
    "# EXPECTATIVAS DE INFLACIÓN\n",
    "\n",
    "inflacion_peru_exp_url='https://estadisticas.bcrp.gob.pe/estadisticas/series/mensuales/resultados/PD12912AM/html/2005-01/2100-12'\n",
    "\n",
    "inflacion_peru_exp_html=pd.read_html(inflacion_peru_exp_url)\n",
    "\n",
    "inflacion_peru_exp_df = inflacion_peru_exp_html[1]\n",
    "\n",
    "# WORK WITH THE DATA AND EXPORT\n",
    "\n",
    "inflacion_peru_exp_df['Expectativas'] = pd.to_numeric(inflacion_peru_exp_df['Expectativas macroeconómicas - Expectativa de Inflación a 12 meses'], errors='coerce')\n",
    "\n",
    "inflacion_peru_exp_df = inflacion_peru_exp_df.drop('Expectativas macroeconómicas - Expectativa de Inflación a 12 meses', axis=1)\n",
    "\n",
    "# WORK WITH THE DATE COLUMN\n",
    "\n",
    "inflacion_peru_exp_df['año'] = '20' + inflacion_peru_exp_df['Fecha'].str[-2:]\n",
    "\n",
    "inflacion_peru_exp_df['mes'] = inflacion_peru_exp_df['Fecha'].str[:3]\n",
    "\n",
    "inflacion_peru_exp_df['mes'] = inflacion_peru_exp_df['mes'].replace({'Ene': '01/01', 'Feb': '01/02', 'Mar': '01/03', 'Abr': '01/04', 'May': '01/05', 'Jun': '01/06', 'Jul': '01/07', 'Ago': '01/08', 'Sep': '01/09', 'Oct': '01/10', 'Nov': '01/11', 'Dic': '01/12'})\n",
    "\n",
    "inflacion_peru_exp_df['date'] = inflacion_peru_exp_df['mes'] + '/' + inflacion_peru_exp_df['año']\n",
    "\n",
    "inflacion_peru_exp_df['date'] = pd.to_datetime(inflacion_peru_exp_df['date'], format='%d/%m/%Y')\n",
    "\n",
    "inflacion_peru_exp_df = inflacion_peru_exp_df.drop(['Fecha', 'año', 'mes'], axis=1)\n",
    "\n",
    "# EXPORT THE DATA\n",
    "\n",
    "inflacion_peru_exp_df.to_feather('inflacion_peru_exp')\n",
    "\n",
    "inflacion_peru_exp_df.to_excel('inflacion_peru_exp.xlsx')"
   ]
  },
  {
   "cell_type": "code",
   "execution_count": 146,
   "metadata": {
    "collapsed": false,
    "ExecuteTime": {
     "end_time": "2023-07-14T19:54:04.150972600Z",
     "start_time": "2023-07-14T19:54:03.200531200Z"
    }
   },
   "outputs": [],
   "source": [
    "# TASA DE REFERENCIA DEL BCRP\n",
    "\n",
    "tasa_bcrp_url='https://estadisticas.bcrp.gob.pe/estadisticas/series/mensuales/resultados/PD04722MM/html/2005-01/2100-12'\n",
    "\n",
    "tasa_bcrp_html=pd.read_html(tasa_bcrp_url)\n",
    "\n",
    "tasa_bcrp_df = tasa_bcrp_html[1]\n",
    "\n",
    "# WORK WITH THE DATA AND EXPORT\n",
    "\n",
    "tasa_bcrp_df['Tasa %'] = pd.to_numeric(tasa_bcrp_df['Tasas de interés del Banco Central de Reserva - Tasa de Referencia de la Política Monetaria'], errors='coerce')\n",
    "\n",
    "tasa_bcrp_df = tasa_bcrp_df.drop('Tasas de interés del Banco Central de Reserva - Tasa de Referencia de la Política Monetaria', axis=1)\n",
    "\n",
    "# WORK WITH THE DATE COLUMN\n",
    "\n",
    "tasa_bcrp_df['año'] = '20' + tasa_bcrp_df['Fecha'].str[-2:]\n",
    "\n",
    "tasa_bcrp_df['mes'] = tasa_bcrp_df['Fecha'].str[:3]\n",
    "\n",
    "tasa_bcrp_df['mes'] = tasa_bcrp_df['mes'].replace({'Ene': '01/01', 'Feb': '01/02', 'Mar': '01/03', 'Abr': '01/04', 'May': '01/05', 'Jun': '01/06', 'Jul': '01/07', 'Ago': '01/08', 'Sep': '01/09', 'Oct': '01/10', 'Nov': '01/11', 'Dic': '01/12'})\n",
    "\n",
    "tasa_bcrp_df['date'] = tasa_bcrp_df['mes'] + '/' + tasa_bcrp_df['año']\n",
    "\n",
    "tasa_bcrp_df['date'] = pd.to_datetime(tasa_bcrp_df['date'], format='%d/%m/%Y')\n",
    "\n",
    "tasa_bcrp_df = tasa_bcrp_df.drop(['Fecha', 'año', 'mes'], axis=1)\n",
    "\n",
    "# EXPORT THE DATA\n",
    "\n",
    "tasa_bcrp_df.to_feather('tasa_bcrp')\n",
    "\n",
    "tasa_bcrp_df.to_excel('tasa_bcrp.xlsx')"
   ]
  },
  {
   "cell_type": "code",
   "execution_count": 147,
   "metadata": {
    "collapsed": false,
    "ExecuteTime": {
     "end_time": "2023-07-14T19:54:05.456142300Z",
     "start_time": "2023-07-14T19:54:05.206219200Z"
    }
   },
   "outputs": [],
   "source": [
    "# TASA DE REFERENCIA REAL (CON EXPECTATIVAS)\n",
    "\n",
    "tasa_bcrp_real_exp = {'date': tasa_bcrp_df['date'], 'Tasa de referencia real': tasa_bcrp_df['Tasa %'] - inflacion_peru_exp_df['Expectativas']}\n",
    "\n",
    "tasa_bcrp_real_exp_df = pd.DataFrame(tasa_bcrp_real_exp)\n",
    "\n",
    "# EXPORT DATA\n",
    "\n",
    "tasa_bcrp_real_exp_df.to_feather('tasa_bcrp_real_exp')\n",
    "\n",
    "tasa_bcrp_real_exp_df.to_excel('tasa_bcrp_real_exp.xlsx')"
   ]
  },
  {
   "cell_type": "code",
   "execution_count": 149,
   "metadata": {
    "collapsed": false,
    "ExecuteTime": {
     "end_time": "2023-07-14T19:55:07.777674900Z",
     "start_time": "2023-07-14T19:55:06.477025Z"
    }
   },
   "outputs": [],
   "source": [
    "# EXPECTATIVAS DE LA ECONOMÍA A 3 MESES\n",
    "\n",
    "exp_eco_3m_url='https://estadisticas.bcrp.gob.pe/estadisticas/series/mensuales/resultados/PD38045AM/html/2005-01/2100-12'\n",
    "\n",
    "exp_eco_3m_html=pd.read_html(exp_eco_3m_url)\n",
    "\n",
    "exp_eco_3m_df = exp_eco_3m_html[1]\n",
    "\n",
    "# WORK WITH THE DATA AND EXPORT\n",
    "\n",
    "exp_eco_3m_df['Expectativas a 3 meses'] = pd.to_numeric(exp_eco_3m_df['Expectativas empresariales totales - Índice de expectativas de la economía a 3 meses'], errors='coerce')\n",
    "\n",
    "exp_eco_3m_df = exp_eco_3m_df.drop('Expectativas empresariales totales - Índice de expectativas de la economía a 3 meses', axis=1)\n",
    "\n",
    "# WORK WITH THE DATE COLUMN\n",
    "\n",
    "exp_eco_3m_df['año'] = '20' + exp_eco_3m_df['Fecha'].str[-2:]\n",
    "\n",
    "exp_eco_3m_df['mes'] = exp_eco_3m_df['Fecha'].str[:3]\n",
    "\n",
    "exp_eco_3m_df['mes'] = exp_eco_3m_df['mes'].replace({'Ene': '01/01', 'Feb': '01/02', 'Mar': '01/03', 'Abr': '01/04', 'May': '01/05', 'Jun': '01/06', 'Jul': '01/07', 'Ago': '01/08', 'Sep': '01/09', 'Oct': '01/10', 'Nov': '01/11', 'Dic': '01/12'})\n",
    "\n",
    "exp_eco_3m_df['date'] = exp_eco_3m_df['mes'] + '/' + exp_eco_3m_df['año']\n",
    "\n",
    "exp_eco_3m_df['date'] = pd.to_datetime(exp_eco_3m_df['date'], format='%d/%m/%Y')\n",
    "\n",
    "exp_eco_3m_df = exp_eco_3m_df.drop(['Fecha', 'año', 'mes'], axis=1)\n",
    "\n",
    "# EXPORT THE DATA\n",
    "\n",
    "exp_eco_3m_df.to_feather('expectativas_eco_3m')\n",
    "\n",
    "exp_eco_3m_df.to_excel('expectativas_eco_3m.xlsx')"
   ]
  },
  {
   "cell_type": "code",
   "execution_count": 151,
   "metadata": {
    "collapsed": false,
    "ExecuteTime": {
     "end_time": "2023-07-14T19:57:33.313109900Z",
     "start_time": "2023-07-14T19:57:29.789621700Z"
    }
   },
   "outputs": [],
   "source": [
    "# EXPECTATIVAS DE LA ECONOMÍA A 12 MESES\n",
    "\n",
    "exp_eco_12m_url='https://estadisticas.bcrp.gob.pe/estadisticas/series/mensuales/resultados/PD37981AM/html/2005-01/2100-12'\n",
    "\n",
    "exp_eco_12m_html=pd.read_html(exp_eco_12m_url)\n",
    "\n",
    "exp_eco_12m_df = exp_eco_12m_html[1]\n",
    "\n",
    "# WORK WITH THE DATA AND EXPORT\n",
    "\n",
    "exp_eco_12m_df['Expectativas a 12 meses'] = pd.to_numeric(exp_eco_12m_df['Expectativas empresariales totales - Índice de expectativas de la economía a 12 meses'], errors='coerce')\n",
    "\n",
    "exp_eco_12m_df = exp_eco_12m_df.drop('Expectativas empresariales totales - Índice de expectativas de la economía a 12 meses', axis=1)\n",
    "\n",
    "# WORK WITH THE DATE COLUMN\n",
    "\n",
    "exp_eco_12m_df['año'] = '20' + exp_eco_12m_df['Fecha'].str[-2:]\n",
    "\n",
    "exp_eco_12m_df['mes'] = exp_eco_12m_df['Fecha'].str[:3]\n",
    "\n",
    "exp_eco_12m_df['mes'] = exp_eco_12m_df['mes'].replace({'Ene': '01/01', 'Feb': '01/02', 'Mar': '01/03', 'Abr': '01/04', 'May': '01/05', 'Jun': '01/06', 'Jul': '01/07', 'Ago': '01/08', 'Sep': '01/09', 'Oct': '01/10', 'Nov': '01/11', 'Dic': '01/12'})\n",
    "\n",
    "exp_eco_12m_df['date'] = exp_eco_12m_df['mes'] + '/' + exp_eco_12m_df['año']\n",
    "\n",
    "exp_eco_12m_df['date'] = pd.to_datetime(exp_eco_12m_df['date'], format='%d/%m/%Y')\n",
    "\n",
    "exp_eco_12m_df = exp_eco_12m_df.drop(['Fecha', 'año', 'mes'], axis=1)\n",
    "\n",
    "# EXPORT THE DATA\n",
    "\n",
    "exp_eco_12m_df.to_feather('expectativas_eco_12m')\n",
    "\n",
    "exp_eco_12m_df.to_excel('expectativas_eco_12m.xlsx')"
   ]
  },
  {
   "cell_type": "code",
   "execution_count": 152,
   "metadata": {
    "collapsed": false,
    "ExecuteTime": {
     "end_time": "2023-07-14T19:57:47.364397200Z",
     "start_time": "2023-07-14T19:57:34.383396100Z"
    }
   },
   "outputs": [
    {
     "name": "stderr",
     "output_type": "stream",
     "text": [
      "C:\\Users\\pport\\AppData\\Local\\Temp\\ipykernel_20356\\123988287.py:11: FutureWarning: The default value of regex will change from True to False in a future version.\n",
      "  pen_10y_df = pen_10y_df.apply(lambda x: x.str.replace('n.d.', ''))\n"
     ]
    }
   ],
   "source": [
    "# GET INFO ON 10 YEAR PERUVIAN PEN BOND\n",
    "\n",
    "pen_10y_url='https://estadisticas.bcrp.gob.pe/estadisticas/series/diarias/resultados/PD31893DD/html'\n",
    "\n",
    "pen_10y_html=pd.read_html(pen_10y_url)\n",
    "\n",
    "pen_10y_df = pen_10y_html[1]\n",
    "\n",
    "# WORK WITH THE DATA AND EXPORT\n",
    "\n",
    "pen_10y_df = pen_10y_df.apply(lambda x: x.str.replace('n.d.', ''))\n",
    "\n",
    "pen_10y_df['Rendimiento'] = pd.to_numeric(pen_10y_df['Tasas de interés - Rendimiento del Bono del gobierno peruano a 10 años (en S/)'], errors='coerce')\n",
    "\n",
    "pen_10y_df = pen_10y_df.drop('Tasas de interés - Rendimiento del Bono del gobierno peruano a 10 años (en S/)', axis=1)\n",
    "\n",
    "# WORK WITH THE DATE COLUMN\n",
    "\n",
    "pen_10y_df['dia'] = pen_10y_df['Fecha'].str[:2]\n",
    "pen_10y_df['año'] = '20' + pen_10y_df['Fecha'].str[-2:]\n",
    "pen_10y_df['mes'] = pen_10y_df['Fecha'].str[2:5]\n",
    "\n",
    "pen_10y_df['mes'] = pen_10y_df['mes'].replace({'Ene': '01', 'Feb': '02', 'Mar': '03', 'Abr': '04', 'May': '05', 'Jun': '06', 'Jul': '07', 'Ago': '08', 'Set': '09', 'Oct': '10', 'Nov': '11', 'Dic': '12'})\n",
    "\n",
    "pen_10y_df['date'] = pen_10y_df['dia'] + '/' + pen_10y_df['mes'] + '/' + pen_10y_df['año']\n",
    "\n",
    "pen_10y_df['date'] = pd.to_datetime(pen_10y_df['date'], format='%d/%m/%Y')\n",
    "\n",
    "pen_10y_df = pen_10y_df.drop(['Fecha', 'dia', 'año', 'mes'], axis=1)\n",
    "\n",
    "pen_10y_df.dropna(subset=['Rendimiento'], inplace=True)\n",
    "\n",
    "pen_10y_df.reset_index(level=0, inplace=True)\n",
    "\n",
    "# EXPORT THE DATA\n",
    "\n",
    "pen_10y_df.to_feather('pen_10y_bond')\n",
    "\n",
    "pen_10y_df.to_excel('pen_10y_bond.xlsx')"
   ]
  },
  {
   "cell_type": "code",
   "execution_count": 153,
   "metadata": {
    "collapsed": false,
    "ExecuteTime": {
     "end_time": "2023-07-14T19:58:09.972594Z",
     "start_time": "2023-07-14T19:57:49.046862100Z"
    }
   },
   "outputs": [
    {
     "name": "stderr",
     "output_type": "stream",
     "text": [
      "C:\\Users\\pport\\AppData\\Local\\Temp\\ipykernel_20356\\4270582050.py:11: FutureWarning: The default value of regex will change from True to False in a future version.\n",
      "  pen_10y_usd_df = pen_10y_usd_df.apply(lambda x: x.str.replace('n.d.', ''))\n"
     ]
    }
   ],
   "source": [
    "# GET INFO ON 10 YEAR PERUVIAN USD BOND\n",
    "\n",
    "pen_10y_usd_url='https://estadisticas.bcrp.gob.pe/estadisticas/series/diarias/resultados/PD31894DD/html'\n",
    "\n",
    "pen_10y_usd_html=pd.read_html(pen_10y_usd_url)\n",
    "\n",
    "pen_10y_usd_df = pen_10y_usd_html[1]\n",
    "\n",
    "# WORK WITH THE DATA AND EXPORT\n",
    "\n",
    "pen_10y_usd_df = pen_10y_usd_df.apply(lambda x: x.str.replace('n.d.', ''))\n",
    "\n",
    "pen_10y_usd_df['Rendimiento'] = pd.to_numeric(pen_10y_usd_df['Tasas de interés - Rendimiento del Bono del gobierno peruano a 10 años (en US$)'], errors='coerce')\n",
    "\n",
    "pen_10y_usd_df = pen_10y_usd_df.drop('Tasas de interés - Rendimiento del Bono del gobierno peruano a 10 años (en US$)', axis=1)\n",
    "\n",
    "# WORK WITH THE DATE COLUMN\n",
    "\n",
    "pen_10y_usd_df['dia'] = pen_10y_usd_df['Fecha'].str[:2]\n",
    "pen_10y_usd_df['año'] = '20' + pen_10y_usd_df['Fecha'].str[-2:]\n",
    "pen_10y_usd_df['mes'] = pen_10y_usd_df['Fecha'].str[2:5]\n",
    "\n",
    "pen_10y_usd_df['mes'] = pen_10y_usd_df['mes'].replace({'Ene': '01', 'Feb': '02', 'Mar': '03', 'Abr': '04', 'May': '05', 'Jun': '06', 'Jul': '07', 'Ago': '08', 'Set': '09', 'Oct': '10', 'Nov': '11', 'Dic': '12'})\n",
    "\n",
    "pen_10y_usd_df['date'] = pen_10y_usd_df['dia'] + '/' + pen_10y_usd_df['mes'] + '/' + pen_10y_usd_df['año']\n",
    "\n",
    "pen_10y_usd_df['date'] = pd.to_datetime(pen_10y_usd_df['date'], format='%d/%m/%Y')\n",
    "\n",
    "pen_10y_usd_df = pen_10y_usd_df.drop(['Fecha', 'dia', 'año', 'mes'], axis=1)\n",
    "\n",
    "pen_10y_usd_df.dropna(subset=['Rendimiento'], inplace=True)\n",
    "\n",
    "pen_10y_usd_df.reset_index(level=0, inplace=True)\n",
    "\n",
    "# EXPORT THE DATA\n",
    "\n",
    "pen_10y_usd_df.to_feather('pen_10y_usd_bond')\n",
    "\n",
    "pen_10y_usd_df.to_excel('pen_10y_usd_bond.xlsx')"
   ]
  },
  {
   "cell_type": "markdown",
   "metadata": {
    "collapsed": false
   },
   "source": [
    "### New York Federal Reserve data"
   ]
  },
  {
   "cell_type": "code",
   "execution_count": 154,
   "metadata": {
    "collapsed": false,
    "ExecuteTime": {
     "end_time": "2023-07-14T19:58:35.448976400Z",
     "start_time": "2023-07-14T19:58:32.693784500Z"
    }
   },
   "outputs": [],
   "source": [
    "# GLOBAL SUPPLY CHAIN PRESSURE INDEX (NEW YORK FED)\n",
    "\n",
    "gscpi_url='https://www.newyorkfed.org/medialibrary/research/interactives/gscpi/downloads/gscpi_data.xlsx'\n",
    "\n",
    "gscpi_req = requests.get(gscpi_url)\n",
    "\n",
    "gscpi_content = gscpi_req.content\n",
    "\n",
    "excel_gscpi = open('gscpi_data.xlsx', 'wb')\n",
    "\n",
    "excel_gscpi.write(gscpi_content)\n",
    "\n",
    "excel_gscpi.close()\n",
    "\n",
    "gscpi_df = pd.read_excel('gscpi_data.xlsx', 'GSCPI Monthly Data', skiprows=4)\n",
    "\n",
    "gscpi_df = gscpi_df.drop(gscpi_df.columns[[2, 3]], axis=1)\n",
    "\n",
    "gscpi_df.columns = ['Date', 'GSCPI']\n",
    "\n",
    "gscpi_df['Date'] = pd.to_datetime(gscpi_df['Date'])\n",
    "\n",
    "gscpi_df = gscpi_df.rename(columns={'GSCPI': 'Close'})\n",
    "\n",
    "# EXPORT TO EXCEL AND FEATHER\n",
    "\n",
    "gscpi_df.to_excel('gscpi_data.xlsx')\n",
    "\n",
    "gscpi_df.to_feather('gscpi_data')"
   ]
  }
 ],
 "metadata": {
  "kernelspec": {
   "display_name": "Python 3",
   "language": "python",
   "name": "python3"
  },
  "language_info": {
   "codemirror_mode": {
    "name": "ipython",
    "version": 2
   },
   "file_extension": ".py",
   "mimetype": "text/x-python",
   "name": "python",
   "nbconvert_exporter": "python",
   "pygments_lexer": "ipython2",
   "version": "2.7.6"
  }
 },
 "nbformat": 4,
 "nbformat_minor": 0
}
